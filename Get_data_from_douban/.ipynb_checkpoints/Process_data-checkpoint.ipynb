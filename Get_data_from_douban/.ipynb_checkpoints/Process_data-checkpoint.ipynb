{
 "cells": [
  {
   "cell_type": "code",
   "execution_count": 2,
   "id": "5a273d97",
   "metadata": {},
   "outputs": [],
   "source": [
    "import pandas as pd\n",
    "import numpy as np"
   ]
  },
  {
   "cell_type": "code",
   "execution_count": 11,
   "id": "97ea8991",
   "metadata": {},
   "outputs": [],
   "source": [
    "data=pd.read_csv(\"./datasets/douban_shashou.csv\",encoding='utf-8',names=[\"comment_time\",\"user_name\",\"comment\",\"rating\",\"title\"])"
   ]
  },
  {
   "cell_type": "code",
   "execution_count": 13,
   "id": "e306464c",
   "metadata": {},
   "outputs": [],
   "source": [
    "data=data.drop(data.index[[0]])# 删除多余行"
   ]
  },
  {
   "cell_type": "code",
   "execution_count": 14,
   "id": "db119389",
   "metadata": {},
   "outputs": [
    {
     "data": {
      "text/plain": [
       "array(['1', '0'], dtype=object)"
      ]
     },
     "execution_count": 14,
     "metadata": {},
     "output_type": "execute_result"
    }
   ],
   "source": [
    "data['rating'].unique() # 检查标签"
   ]
  },
  {
   "cell_type": "code",
   "execution_count": 15,
   "id": "ef6ef60b",
   "metadata": {},
   "outputs": [
    {
     "data": {
      "text/html": [
       "<div>\n",
       "<style scoped>\n",
       "    .dataframe tbody tr th:only-of-type {\n",
       "        vertical-align: middle;\n",
       "    }\n",
       "\n",
       "    .dataframe tbody tr th {\n",
       "        vertical-align: top;\n",
       "    }\n",
       "\n",
       "    .dataframe thead th {\n",
       "        text-align: right;\n",
       "    }\n",
       "</style>\n",
       "<table border=\"1\" class=\"dataframe\">\n",
       "  <thead>\n",
       "    <tr style=\"text-align: right;\">\n",
       "      <th></th>\n",
       "      <th>comment_time</th>\n",
       "      <th>user_name</th>\n",
       "      <th>comment</th>\n",
       "      <th>rating</th>\n",
       "      <th>title</th>\n",
       "    </tr>\n",
       "  </thead>\n",
       "  <tbody>\n",
       "    <tr>\n",
       "      <th>1</th>\n",
       "      <td>\\n                    2022-02-01 10:46:47\\n   ...</td>\n",
       "      <td>空山</td>\n",
       "      <td>超出预期，非常标准且体面的商业喜剧片，没走下三路、不靠屎尿屁。龙套演员被骗去黑帮演杀手，很有...</td>\n",
       "      <td>1</td>\n",
       "      <td>还行</td>\n",
       "    </tr>\n",
       "    <tr>\n",
       "      <th>2</th>\n",
       "      <td>\\n                    2022-02-01 23:11:33\\n   ...</td>\n",
       "      <td>樹</td>\n",
       "      <td>开心麻花的戏，你要说好看吧，看后又记不住任何，你要说不好看吧，毕竟你也跟着笑了。就像吃了安眠...</td>\n",
       "      <td>1</td>\n",
       "      <td>还行</td>\n",
       "    </tr>\n",
       "    <tr>\n",
       "      <th>3</th>\n",
       "      <td>\\n                    2022-02-01 11:28:42\\n   ...</td>\n",
       "      <td>Lauren</td>\n",
       "      <td>有的情节是真的尴尬，电影的有一些镜头可以很明显的看出是借鉴了哪些经典镜头，但演员的精神让人很...</td>\n",
       "      <td>1</td>\n",
       "      <td>还行</td>\n",
       "    </tr>\n",
       "    <tr>\n",
       "      <th>4</th>\n",
       "      <td>\\n                    2022-02-01 10:55:39\\n   ...</td>\n",
       "      <td>朝阳区妻夫木聪</td>\n",
       "      <td>因为是翻拍，原版又实在太出众，抱着不太高的预期进来，没想到看完倒觉得还不错。在我看来原作的好...</td>\n",
       "      <td>1</td>\n",
       "      <td>还行</td>\n",
       "    </tr>\n",
       "    <tr>\n",
       "      <th>5</th>\n",
       "      <td>\\n                    2022-02-01 10:08:26\\n   ...</td>\n",
       "      <td>拥挤的乐园</td>\n",
       "      <td>在看，感觉前半段逻辑就有问题，节奏掌控不到位，故事推进莫名其妙，远逊麻花人马的其他电影。加一...</td>\n",
       "      <td>1</td>\n",
       "      <td>还行</td>\n",
       "    </tr>\n",
       "    <tr>\n",
       "      <th>...</th>\n",
       "      <td>...</td>\n",
       "      <td>...</td>\n",
       "      <td>...</td>\n",
       "      <td>...</td>\n",
       "      <td>...</td>\n",
       "    </tr>\n",
       "    <tr>\n",
       "      <th>212</th>\n",
       "      <td>\\n                    2022-02-06 08:27:00\\n   ...</td>\n",
       "      <td>ᠴᠣᠭᠲᠤ</td>\n",
       "      <td>快餐</td>\n",
       "      <td>1</td>\n",
       "      <td>还行</td>\n",
       "    </tr>\n",
       "    <tr>\n",
       "      <th>213</th>\n",
       "      <td>\\n                    2022-02-06 16:04:09\\n   ...</td>\n",
       "      <td>半日光辉</td>\n",
       "      <td>只能说感觉一般，没想象那么爆笑。和原版相比，也更加舞台化。日韩电影是这两年国产影片的素材库了...</td>\n",
       "      <td>0</td>\n",
       "      <td>较差</td>\n",
       "    </tr>\n",
       "    <tr>\n",
       "      <th>214</th>\n",
       "      <td>\\n                    2022-02-03 13:07:26\\n   ...</td>\n",
       "      <td>你读书少♂</td>\n",
       "      <td>比春晚还要尬，就是一加长版的小品，时间线完全错乱，驴头不对马嘴的各种经典电影的乱入，使劲儿出...</td>\n",
       "      <td>1</td>\n",
       "      <td>还行</td>\n",
       "    </tr>\n",
       "    <tr>\n",
       "      <th>215</th>\n",
       "      <td>\\n                    2022-02-12 16:35:08\\n   ...</td>\n",
       "      <td>范海鑫</td>\n",
       "      <td>我依稀在魏翔身上看到了达叔的影子</td>\n",
       "      <td>0</td>\n",
       "      <td>很差</td>\n",
       "    </tr>\n",
       "    <tr>\n",
       "      <th>216</th>\n",
       "      <td>\\n                    2022-02-04 22:19:59\\n   ...</td>\n",
       "      <td>纳兰点降</td>\n",
       "      <td>尴尬！不知道笑点在哪</td>\n",
       "      <td>1</td>\n",
       "      <td>推荐</td>\n",
       "    </tr>\n",
       "  </tbody>\n",
       "</table>\n",
       "<p>216 rows × 5 columns</p>\n",
       "</div>"
      ],
      "text/plain": [
       "                                          comment_time user_name  \\\n",
       "1    \\n                    2022-02-01 10:46:47\\n   ...        空山   \n",
       "2    \\n                    2022-02-01 23:11:33\\n   ...         樹   \n",
       "3    \\n                    2022-02-01 11:28:42\\n   ...    Lauren   \n",
       "4    \\n                    2022-02-01 10:55:39\\n   ...   朝阳区妻夫木聪   \n",
       "5    \\n                    2022-02-01 10:08:26\\n   ...     拥挤的乐园   \n",
       "..                                                 ...       ...   \n",
       "212  \\n                    2022-02-06 08:27:00\\n   ...     ᠴᠣᠭᠲᠤ   \n",
       "213  \\n                    2022-02-06 16:04:09\\n   ...      半日光辉   \n",
       "214  \\n                    2022-02-03 13:07:26\\n   ...     你读书少♂   \n",
       "215  \\n                    2022-02-12 16:35:08\\n   ...       范海鑫   \n",
       "216  \\n                    2022-02-04 22:19:59\\n   ...      纳兰点降   \n",
       "\n",
       "                                               comment rating title  \n",
       "1    超出预期，非常标准且体面的商业喜剧片，没走下三路、不靠屎尿屁。龙套演员被骗去黑帮演杀手，很有...      1    还行  \n",
       "2    开心麻花的戏，你要说好看吧，看后又记不住任何，你要说不好看吧，毕竟你也跟着笑了。就像吃了安眠...      1    还行  \n",
       "3    有的情节是真的尴尬，电影的有一些镜头可以很明显的看出是借鉴了哪些经典镜头，但演员的精神让人很...      1    还行  \n",
       "4    因为是翻拍，原版又实在太出众，抱着不太高的预期进来，没想到看完倒觉得还不错。在我看来原作的好...      1    还行  \n",
       "5    在看，感觉前半段逻辑就有问题，节奏掌控不到位，故事推进莫名其妙，远逊麻花人马的其他电影。加一...      1    还行  \n",
       "..                                                 ...    ...   ...  \n",
       "212                                                 快餐      1    还行  \n",
       "213  只能说感觉一般，没想象那么爆笑。和原版相比，也更加舞台化。日韩电影是这两年国产影片的素材库了...      0    较差  \n",
       "214  比春晚还要尬，就是一加长版的小品，时间线完全错乱，驴头不对马嘴的各种经典电影的乱入，使劲儿出...      1    还行  \n",
       "215                                   我依稀在魏翔身上看到了达叔的影子      0    很差  \n",
       "216                                         尴尬！不知道笑点在哪      1    推荐  \n",
       "\n",
       "[216 rows x 5 columns]"
      ]
     },
     "execution_count": 15,
     "metadata": {},
     "output_type": "execute_result"
    }
   ],
   "source": [
    "data"
   ]
  },
  {
   "cell_type": "code",
   "execution_count": 16,
   "id": "2dcf3341",
   "metadata": {
    "scrolled": true
   },
   "outputs": [
    {
     "data": {
      "text/plain": [
       "1    153\n",
       "0     63\n",
       "Name: rating, dtype: int64"
      ]
     },
     "execution_count": 16,
     "metadata": {},
     "output_type": "execute_result"
    }
   ],
   "source": [
    "data.loc[:,\"rating\"].value_counts() # 看所有的data标签类型的多少"
   ]
  },
  {
   "cell_type": "code",
   "execution_count": 17,
   "id": "d81feffd",
   "metadata": {},
   "outputs": [],
   "source": [
    "data.to_csv(\"./datasets/douban_shashou.csv\",header=False) # 将处理好的数据重新保存至csv"
   ]
  },
  {
   "cell_type": "code",
   "execution_count": null,
   "id": "f13c0a6c",
   "metadata": {},
   "outputs": [],
   "source": []
  }
 ],
 "metadata": {
  "kernelspec": {
   "display_name": "Python [conda env:tensorflow]",
   "language": "python",
   "name": "conda-env-tensorflow-py"
  },
  "language_info": {
   "codemirror_mode": {
    "name": "ipython",
    "version": 3
   },
   "file_extension": ".py",
   "mimetype": "text/x-python",
   "name": "python",
   "nbconvert_exporter": "python",
   "pygments_lexer": "ipython3",
   "version": "3.8.12"
  }
 },
 "nbformat": 4,
 "nbformat_minor": 5
}
