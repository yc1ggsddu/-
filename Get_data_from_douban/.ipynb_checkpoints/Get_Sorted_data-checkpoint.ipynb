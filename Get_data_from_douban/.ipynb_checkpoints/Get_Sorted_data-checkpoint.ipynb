{
 "cells": [
  {
   "cell_type": "code",
   "execution_count": 1,
   "id": "11c8f780",
   "metadata": {},
   "outputs": [],
   "source": [
    "import pandas as pd\n",
    "import numpy as np"
   ]
  },
  {
   "cell_type": "code",
   "execution_count": 2,
   "id": "3a4f7228",
   "metadata": {},
   "outputs": [],
   "source": [
    "data=pd.read_csv('./datasets/douban_Combine.csv',encoding='utf-8')"
   ]
  },
  {
   "cell_type": "code",
   "execution_count": 4,
   "id": "3a2a252f",
   "metadata": {},
   "outputs": [
    {
     "data": {
      "text/plain": [
       "Index(['comment_time', 'user_names', 'comments', 'rating', 'title'], dtype='object')"
      ]
     },
     "execution_count": 4,
     "metadata": {},
     "output_type": "execute_result"
    }
   ],
   "source": [
    "data.columns"
   ]
  },
  {
   "cell_type": "code",
   "execution_count": 7,
   "id": "8267f267",
   "metadata": {},
   "outputs": [],
   "source": [
    "trans_rating=data['rating'].values # 将数据整合到ndarray中，方便对ndarray进行合并\n",
    "trans_comments=data['comments'].values"
   ]
  },
  {
   "cell_type": "code",
   "execution_count": 9,
   "id": "b091cd7b",
   "metadata": {},
   "outputs": [
    {
     "data": {
      "text/plain": [
       "array(['娄烨离不开雨我知道 国师现在咋也离不开雪了', '全是子弹时间，不知道的以为我在看赤井秀一', '坦克开始有点手撕鬼子那劲儿了',\n",
       "       ..., '我依稀在魏翔身上看到了达叔的影子', '尴尬！不知道笑点在哪', '迄今为止，开心麻花最佳电影！'],\n",
       "      dtype=object)"
      ]
     },
     "execution_count": 9,
     "metadata": {},
     "output_type": "execute_result"
    }
   ],
   "source": [
    "trans_comments"
   ]
  },
  {
   "cell_type": "code",
   "execution_count": 32,
   "id": "4ac8753e",
   "metadata": {
    "scrolled": true
   },
   "outputs": [],
   "source": [
    "trans_comments=trans_comments.reshape(-1,1) # 将行向量转成列向量\n",
    "trans_rating=trans_rating.reshape(-1,1)"
   ]
  },
  {
   "cell_type": "code",
   "execution_count": 40,
   "id": "44515847",
   "metadata": {
    "scrolled": true
   },
   "outputs": [
    {
     "data": {
      "text/plain": [
       "(1509, 1)"
      ]
     },
     "execution_count": 40,
     "metadata": {},
     "output_type": "execute_result"
    }
   ],
   "source": [
    "trans_rating.shape"
   ]
  },
  {
   "cell_type": "code",
   "execution_count": 51,
   "id": "5df5f0dd",
   "metadata": {},
   "outputs": [],
   "source": [
    "new_data=np.concatenate((trans_comments,trans_rating),axis=1) # 将两个数组横向合并"
   ]
  },
  {
   "cell_type": "code",
   "execution_count": 52,
   "id": "678a4259",
   "metadata": {
    "scrolled": true
   },
   "outputs": [
    {
     "data": {
      "text/plain": [
       "(1509, 2)"
      ]
     },
     "execution_count": 52,
     "metadata": {},
     "output_type": "execute_result"
    }
   ],
   "source": [
    "new_data.shape"
   ]
  },
  {
   "cell_type": "code",
   "execution_count": 53,
   "id": "d88f7c43",
   "metadata": {},
   "outputs": [],
   "source": [
    "new_data=pd.DataFrame(new_data,dtype='object',columns=['comments','labels'])"
   ]
  },
  {
   "cell_type": "code",
   "execution_count": 54,
   "id": "aee9282c",
   "metadata": {
    "collapsed": true
   },
   "outputs": [
    {
     "data": {
      "text/html": [
       "<div>\n",
       "<style scoped>\n",
       "    .dataframe tbody tr th:only-of-type {\n",
       "        vertical-align: middle;\n",
       "    }\n",
       "\n",
       "    .dataframe tbody tr th {\n",
       "        vertical-align: top;\n",
       "    }\n",
       "\n",
       "    .dataframe thead th {\n",
       "        text-align: right;\n",
       "    }\n",
       "</style>\n",
       "<table border=\"1\" class=\"dataframe\">\n",
       "  <thead>\n",
       "    <tr style=\"text-align: right;\">\n",
       "      <th></th>\n",
       "      <th>comments</th>\n",
       "      <th>labels</th>\n",
       "    </tr>\n",
       "  </thead>\n",
       "  <tbody>\n",
       "    <tr>\n",
       "      <th>0</th>\n",
       "      <td>娄烨离不开雨我知道 国师现在咋也离不开雪了</td>\n",
       "      <td>1</td>\n",
       "    </tr>\n",
       "    <tr>\n",
       "      <th>1</th>\n",
       "      <td>全是子弹时间，不知道的以为我在看赤井秀一</td>\n",
       "      <td>1</td>\n",
       "    </tr>\n",
       "    <tr>\n",
       "      <th>2</th>\n",
       "      <td>坦克开始有点手撕鬼子那劲儿了</td>\n",
       "      <td>1</td>\n",
       "    </tr>\n",
       "    <tr>\n",
       "      <th>3</th>\n",
       "      <td>张艺谋太可怕了，到了这个年纪，保持这样的创作力，还能一直去繁从简，还能保持自己的态度。</td>\n",
       "      <td>1</td>\n",
       "    </tr>\n",
       "    <tr>\n",
       "      <th>4</th>\n",
       "      <td>影片本身水准可以，想去电影院的完全可以看看，值回票价完全没问题。不过还是要说一下，有些人一口...</td>\n",
       "      <td>1</td>\n",
       "    </tr>\n",
       "    <tr>\n",
       "      <th>...</th>\n",
       "      <td>...</td>\n",
       "      <td>...</td>\n",
       "    </tr>\n",
       "    <tr>\n",
       "      <th>1504</th>\n",
       "      <td>只能说感觉一般，没想象那么爆笑。和原版相比，也更加舞台化。日韩电影是这两年国产影片的素材库了...</td>\n",
       "      <td>0</td>\n",
       "    </tr>\n",
       "    <tr>\n",
       "      <th>1505</th>\n",
       "      <td>比春晚还要尬，就是一加长版的小品，时间线完全错乱，驴头不对马嘴的各种经典电影的乱入，使劲儿出...</td>\n",
       "      <td>1</td>\n",
       "    </tr>\n",
       "    <tr>\n",
       "      <th>1506</th>\n",
       "      <td>我依稀在魏翔身上看到了达叔的影子</td>\n",
       "      <td>0</td>\n",
       "    </tr>\n",
       "    <tr>\n",
       "      <th>1507</th>\n",
       "      <td>尴尬！不知道笑点在哪</td>\n",
       "      <td>1</td>\n",
       "    </tr>\n",
       "    <tr>\n",
       "      <th>1508</th>\n",
       "      <td>迄今为止，开心麻花最佳电影！</td>\n",
       "      <td>1</td>\n",
       "    </tr>\n",
       "  </tbody>\n",
       "</table>\n",
       "<p>1509 rows × 2 columns</p>\n",
       "</div>"
      ],
      "text/plain": [
       "                                               comments labels\n",
       "0                                 娄烨离不开雨我知道 国师现在咋也离不开雪了      1\n",
       "1                                  全是子弹时间，不知道的以为我在看赤井秀一      1\n",
       "2                                        坦克开始有点手撕鬼子那劲儿了      1\n",
       "3           张艺谋太可怕了，到了这个年纪，保持这样的创作力，还能一直去繁从简，还能保持自己的态度。      1\n",
       "4     影片本身水准可以，想去电影院的完全可以看看，值回票价完全没问题。不过还是要说一下，有些人一口...      1\n",
       "...                                                 ...    ...\n",
       "1504  只能说感觉一般，没想象那么爆笑。和原版相比，也更加舞台化。日韩电影是这两年国产影片的素材库了...      0\n",
       "1505  比春晚还要尬，就是一加长版的小品，时间线完全错乱，驴头不对马嘴的各种经典电影的乱入，使劲儿出...      1\n",
       "1506                                   我依稀在魏翔身上看到了达叔的影子      0\n",
       "1507                                         尴尬！不知道笑点在哪      1\n",
       "1508                                     迄今为止，开心麻花最佳电影！      1\n",
       "\n",
       "[1509 rows x 2 columns]"
      ]
     },
     "execution_count": 54,
     "metadata": {},
     "output_type": "execute_result"
    }
   ],
   "source": [
    "new_data"
   ]
  },
  {
   "cell_type": "code",
   "execution_count": 56,
   "id": "f475b867",
   "metadata": {},
   "outputs": [
    {
     "data": {
      "text/plain": [
       "0    769\n",
       "1    740\n",
       "Name: labels, dtype: int64"
      ]
     },
     "execution_count": 56,
     "metadata": {},
     "output_type": "execute_result"
    }
   ],
   "source": [
    "new_data['labels'].value_counts()"
   ]
  },
  {
   "cell_type": "code",
   "execution_count": 59,
   "id": "a6585efc",
   "metadata": {},
   "outputs": [],
   "source": [
    "new_data.to_csv('Sorted_data.csv',index=False) # 将整合过的保存至最新的csv文件\"Sorted_data\""
   ]
  },
  {
   "cell_type": "code",
   "execution_count": null,
   "id": "91a78a77",
   "metadata": {},
   "outputs": [],
   "source": []
  }
 ],
 "metadata": {
  "kernelspec": {
   "display_name": "Python [conda env:tensorflow]",
   "language": "python",
   "name": "conda-env-tensorflow-py"
  },
  "language_info": {
   "codemirror_mode": {
    "name": "ipython",
    "version": 3
   },
   "file_extension": ".py",
   "mimetype": "text/x-python",
   "name": "python",
   "nbconvert_exporter": "python",
   "pygments_lexer": "ipython3",
   "version": "3.8.12"
  }
 },
 "nbformat": 4,
 "nbformat_minor": 5
}
