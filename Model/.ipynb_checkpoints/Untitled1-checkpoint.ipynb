{
 "cells": [
  {
   "cell_type": "code",
   "execution_count": 1,
   "id": "10679324",
   "metadata": {},
   "outputs": [],
   "source": [
    "import pandas as pd\n",
    "import jieba\n",
    "import re\n",
    "import numpy as np\n",
    "import gensim\n",
    "from keras_self_attention import SeqSelfAttention\n",
    "import pickle\n",
    "from keras import layers\n",
    "from keras import models\n",
    "import collections\n",
    "from keras import regularizers"
   ]
  },
  {
   "cell_type": "code",
   "execution_count": 2,
   "id": "7d2ab171",
   "metadata": {},
   "outputs": [
    {
     "name": "stdout",
     "output_type": "stream",
     "text": [
      "WARNING:tensorflow:Some requested devices in `tf.distribute.Strategy` are not visible to TensorFlow: /job:localhost/replica:0/task:0/device:GPU:1,/job:localhost/replica:0/task:0/device:GPU:0\n",
      "INFO:tensorflow:Using MirroredStrategy with devices ('/job:localhost/replica:0/task:0/device:GPU:0', '/job:localhost/replica:0/task:0/device:GPU:1')\n",
      "Number of devices: 2\n"
     ]
    }
   ],
   "source": [
    "import keras\n",
    "keras.backend.clear_session()\n",
    "\n",
    "import tensorflow as tf\n",
    "config = tf.compat.v1.ConfigProto()\n",
    "config.gpu_options.per_process_gpu_memory_fraction = 0.8\n",
    "\n",
    "strategy = tf.distribute.MirroredStrategy(devices=[\"/gpu:0\", \"/gpu:1\"])\n",
    "print('Number of devices: %d' % strategy.num_replicas_in_sync)  # 输出设备数量"
   ]
  },
  {
   "cell_type": "code",
   "execution_count": 3,
   "id": "9c4c376e",
   "metadata": {},
   "outputs": [],
   "source": [
    "maxlen=100 #  在100个词后截断评论\n",
    "max_words=50000 # 考虑前10000个出现的词 发现有134658个word_index，故调整为50000\n",
    "embedding_dim=100"
   ]
  },
  {
   "cell_type": "code",
   "execution_count": 4,
   "id": "faa9a537",
   "metadata": {},
   "outputs": [],
   "source": [
    "data=np.load(\"./data_50000_100.npy\")\n",
    "labels=np.load(\"./labels.npy\")\n",
    "Embedding_matrix=np.load(\"./Embedding/Embedding_matrix_50000_100_big.npy\")"
   ]
  },
  {
   "cell_type": "code",
   "execution_count": 5,
   "id": "40d36821",
   "metadata": {
    "scrolled": true
   },
   "outputs": [
    {
     "data": {
      "text/plain": [
       "(50000, 100)"
      ]
     },
     "execution_count": 5,
     "metadata": {},
     "output_type": "execute_result"
    }
   ],
   "source": [
    "Embedding_matrix.shape"
   ]
  },
  {
   "cell_type": "code",
   "execution_count": 6,
   "id": "23df0e56",
   "metadata": {},
   "outputs": [
    {
     "data": {
      "text/plain": [
       "49999"
      ]
     },
     "execution_count": 6,
     "metadata": {},
     "output_type": "execute_result"
    }
   ],
   "source": [
    "data.max()"
   ]
  },
  {
   "cell_type": "code",
   "execution_count": 7,
   "id": "7ac4f0db",
   "metadata": {},
   "outputs": [],
   "source": [
    "def shuffle_data(data,labels):\n",
    "    indices=np.arange(data.shape[0])\n",
    "    np.random.shuffle(indices)\n",
    "    data=data[indices]\n",
    "    labels=labels[indices]\n",
    "    return [data,labels]"
   ]
  },
  {
   "cell_type": "raw",
   "id": "7533a3cd",
   "metadata": {},
   "source": [
    "[data,labels]=shuffle_data(data,labels)"
   ]
  },
  {
   "cell_type": "code",
   "execution_count": 8,
   "id": "b2524194",
   "metadata": {},
   "outputs": [],
   "source": [
    "data=data[:200000]\n",
    "labels=labels[:200000]\n",
    "[data,labels]=shuffle_data(data,labels)"
   ]
  },
  {
   "cell_type": "raw",
   "id": "dad87221",
   "metadata": {},
   "source": [
    "def Build_model(): # 71.53%\n",
    "    model=models.Sequential()\n",
    "    model.add(layers.Embedding(Embedding_matrix.shape[0],Embedding_matrix.shape[1],input_length=maxlen))\n",
    "    # model.add(SeqSelfAttention())\n",
    "    model.add(layers.Bidirectional(layers.LSTM(128,return_sequences=True,dropout=0.3)))\n",
    "    # model.add(layers.LSTM(128,return_sequences=True,kernel_regularizer=regularizers.l2(0.001)))\n",
    "    model.add(layers.LSTM(64,kernel_regularizer=regularizers.l2(0.001)))\n",
    "    model.add(layers.Dropout(0.3))\n",
    "    model.add(layers.Dense(64,activation='relu',kernel_regularizer=regularizers.l2(0.001)))\n",
    "    model.add(layers.Dense(1,activation='sigmoid'))\n",
    "    model.layers[0].set_weights([Embedding_matrix])\n",
    "    model.layers[0].trainable=False\n",
    "    model.summary()\n",
    "    return model"
   ]
  },
  {
   "cell_type": "raw",
   "id": "f4453ac6",
   "metadata": {},
   "source": [
    "def Build_model():\n",
    "    model=models.Sequential()\n",
    "    model.add(layers.Embedding(Embedding_matrix.shape[0],Embedding_matrix.shape[1],input_length=maxlen))\n",
    "    # model.add(SeqSelfAttention())\n",
    "    model.add(layers.Bidirectional(layers.LSTM(128,return_sequences=True,kernel_regularizer=regularizers.l2(0.001))))\n",
    "    model.add(layers.LSTM(128,kernel_regularizer=regularizers.l2(0.001)))\n",
    "    model.add(layers.Dropout(0.3))\n",
    "    model.add(layers.Dense(64,activation='relu',kernel_regularizer=regularizers.l2(0.001)))\n",
    "    model.add(layers.Dense(1,activation='sigmoid'))\n",
    "    model.layers[0].set_weights([Embedding_matrix])\n",
    "    model.layers[0].trainable=False\n",
    "    model.summary()\n",
    "    return model"
   ]
  },
  {
   "cell_type": "raw",
   "id": "a0d4a401",
   "metadata": {},
   "source": [
    "def Build_model_7x(): # 训练高\n",
    "    model=models.Sequential()\n",
    "    model.add(layers.Embedding(Embedding_matrix.shape[0],Embedding_matrix.shape[1],input_length=maxlen))\n",
    "    model.add(layers.LSTM(128,kernel_regularizer=regularizers.l2(0.001),return_sequences=True,dropout=0.2))\n",
    "    model.add(layers.GlobalAveragePooling1D())\n",
    "    model.add(layers.Dense(64,kernel_regularizer=regularizers.l2(0.001),activation='relu'))\n",
    "    model.add(layers.Dense(1,activation='sigmoid'))\n",
    "    # model.layers[0].set_weights([Embedding_matrix])\n",
    "    # model.layers[0].trainable=False\n",
    "    return model"
   ]
  },
  {
   "cell_type": "raw",
   "id": "ae80ff54",
   "metadata": {},
   "source": [
    "from keras.models import Model\n",
    "from keras import layers\n",
    "from keras import Input\n",
    "def BiLSTM_Attention(Embedding_matrix):\n",
    "    global maxlen\n",
    "    input_ = Input(shape=(maxlen,))\n",
    "    words = layers.Embedding(max_words,embedding_dim,input_length=maxlen)(input_)\n",
    "    sen =  layers.Bidirectional(layers.LSTM(64,return_sequences=True,kernel_regularizer=regularizers.l2(0.001)))(words)  #[b_size,maxlen,64] \n",
    "    sen=layers.Dropout(0.2)(sen)\n",
    "    #attention\n",
    "    attention_pre = layers.Dense(1, name='attention_vec')(sen)   #[b_size,maxlen,1]\n",
    "    attention_probs  = layers.Softmax()(attention_pre)  #[b_size,maxlen,1] \n",
    "    attention_mul = layers.Lambda(lambda x:x[0]*x[1])([attention_probs,sen])\n",
    "    attention_mul=layers.Dropout(0.2)(attention_mul)\n",
    "    output = layers.Flatten()(attention_mul)\n",
    "    output = layers.Dense(64,activation=\"relu\",kernel_regularizer=regularizers.l2(0.001))(output)\n",
    "    output = layers.Dense(1, activation='sigmoid')(output)\n",
    "    model = Model(inputs = input_ , outputs = output)\n",
    "    model.layers[1].set_weights([Embedding_matrix]) #未train加入embedding矩阵后的\n",
    "    model.layers[1].trainable=False\n",
    "    model.compile(loss=\"binary_crossentropy\",optimizer=\"adam\",metrics=[\"acc\"])\n",
    "    model.summary()\n",
    "    return model"
   ]
  },
  {
   "cell_type": "markdown",
   "id": "a295a7fd",
   "metadata": {},
   "source": [
    "model=BiLSTM_Attention(Embedding_matrix)\n",
    "model.fit(data,labels,\n",
    "          batch_size=128,\n",
    "          epochs=20,\n",
    "          validation_split=0.2,\n",
    "          use_multiprocessing=True)"
   ]
  },
  {
   "cell_type": "code",
   "execution_count": 9,
   "id": "a63ad228",
   "metadata": {},
   "outputs": [],
   "source": [
    "def Build_model_S_A():\n",
    "    model=models.Sequential()\n",
    "    model.add(layers.Embedding(max_words,embedding_dim,input_length=maxlen))\n",
    "    model.add(SeqSelfAttention(128,history_only=True,name='Attention'))\n",
    "    model.add(layers.Dropout(0.3))\n",
    "    model.add(layers.Bidirectional(layers.LSTM(128,return_sequences=True,\n",
    "                                kernel_regularizer=regularizers.l2(0.001))))\n",
    "    model.add(layers.LSTM(64))\n",
    "    model.add(layers.Dropout(0.3))\n",
    "    model.add(layers.Dense(64,activation='relu'))\n",
    "    model.add(layers.Dense(1,activation='sigmoid'))\n",
    "    model.layers[0].set_weights([Embedding_matrix])\n",
    "    model.layers[0].trainable=False\n",
    "    model.summary()\n",
    "    return model"
   ]
  },
  {
   "cell_type": "code",
   "execution_count": null,
   "id": "7346ac39",
   "metadata": {},
   "outputs": [
    {
     "name": "stdout",
     "output_type": "stream",
     "text": [
      "Model: \"sequential\"\n",
      "_________________________________________________________________\n",
      "Layer (type)                 Output Shape              Param #   \n",
      "=================================================================\n",
      "embedding (Embedding)        (None, 100, 100)          5000000   \n",
      "_________________________________________________________________\n",
      "Attention (SeqSelfAttention) (None, None, 100)         25857     \n",
      "_________________________________________________________________\n",
      "dropout (Dropout)            (None, None, 100)         0         \n",
      "_________________________________________________________________\n",
      "bidirectional (Bidirectional (None, None, 256)         234496    \n",
      "_________________________________________________________________\n",
      "lstm_1 (LSTM)                (None, 64)                82176     \n",
      "_________________________________________________________________\n",
      "dropout_1 (Dropout)          (None, 64)                0         \n",
      "_________________________________________________________________\n",
      "dense (Dense)                (None, 64)                4160      \n",
      "_________________________________________________________________\n",
      "dense_1 (Dense)              (None, 1)                 65        \n",
      "=================================================================\n",
      "Total params: 5,346,754\n",
      "Trainable params: 346,754\n",
      "Non-trainable params: 5,000,000\n",
      "_________________________________________________________________\n",
      "Epoch 1/20\n",
      " 547/2500 [=====>........................] - ETA: 10:58 - loss: 0.7157 - acc: 0.5579"
     ]
    }
   ],
   "source": [
    "import keras\n",
    "model=Build_model_S_A()\n",
    "model.compile(optimizer='adam',\n",
    "             loss='binary_crossentropy',\n",
    "             metrics=['acc'])\n",
    "history=model.fit(data,\n",
    "          labels,\n",
    "          epochs=20,\n",
    "          batch_size=64,\n",
    "          validation_split=0.2,\n",
    "         use_multiprocessing=True)"
   ]
  },
  {
   "cell_type": "markdown",
   "id": "1ae90530",
   "metadata": {},
   "source": [
    "checkpoint = ModelCheckpoint(filepath=\"./Best_val_model.h5\", \n",
    "monitor='val_acc',\n",
    "verbose=1,\n",
    "save_best_only='True',\n",
    "mode='auto',\n",
    "save_freq=1)"
   ]
  },
  {
   "cell_type": "markdown",
   "id": "1073f043",
   "metadata": {},
   "source": [
    "model.save(\"./71.53_model.h5\")"
   ]
  },
  {
   "cell_type": "raw",
   "id": "52cf63df",
   "metadata": {},
   "source": [
    "看能不能过68，能过则可以使用"
   ]
  },
  {
   "cell_type": "raw",
   "id": "fed738de",
   "metadata": {},
   "source": [
    "40000: 0.6905\n",
    "30000: 0.6818\n",
    "50000: 0.6929"
   ]
  },
  {
   "cell_type": "code",
   "execution_count": null,
   "id": "430b8f90",
   "metadata": {},
   "outputs": [],
   "source": []
  }
 ],
 "metadata": {
  "kernelspec": {
   "display_name": "Python [conda env:tensorflow]",
   "language": "python",
   "name": "conda-env-tensorflow-py"
  },
  "language_info": {
   "codemirror_mode": {
    "name": "ipython",
    "version": 3
   },
   "file_extension": ".py",
   "mimetype": "text/x-python",
   "name": "python",
   "nbconvert_exporter": "python",
   "pygments_lexer": "ipython3",
   "version": "3.8.12"
  }
 },
 "nbformat": 4,
 "nbformat_minor": 5
}
