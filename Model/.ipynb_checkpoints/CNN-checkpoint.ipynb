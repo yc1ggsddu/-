{
 "cells": [
  {
   "cell_type": "raw",
   "id": "2b324231",
   "metadata": {},
   "source": [
    "import os\n",
    "os.environ[\"CUDA_VISIBLE_DEVICES\"] = \"-1\"  # 加入这行代码可以只使用cpu，对于自定义LSTM参数类训练，只使用cpu训练速度更快"
   ]
  },
  {
   "cell_type": "code",
   "execution_count": 1,
   "id": "244f4e7d",
   "metadata": {
    "scrolled": true
   },
   "outputs": [
    {
     "name": "stdout",
     "output_type": "stream",
     "text": [
      "Fri Apr 29 21:32:37 2022       \n",
      "+-----------------------------------------------------------------------------+\n",
      "| NVIDIA-SMI 441.45       Driver Version: 441.45       CUDA Version: 10.2     |\n",
      "|-------------------------------+----------------------+----------------------+\n",
      "| GPU  Name            TCC/WDDM | Bus-Id        Disp.A | Volatile Uncorr. ECC |\n",
      "| Fan  Temp  Perf  Pwr:Usage/Cap|         Memory-Usage | GPU-Util  Compute M. |\n",
      "|===============================+======================+======================|\n",
      "|   0  GeForce MX350      WDDM  | 00000000:02:00.0 Off |                  N/A |\n",
      "| N/A   51C    P8    N/A /  N/A |     68MiB /  2048MiB |      0%      Default |\n",
      "+-------------------------------+----------------------+----------------------+\n",
      "                                                                               \n",
      "+-----------------------------------------------------------------------------+\n",
      "| Processes:                                                       GPU Memory |\n",
      "|  GPU       PID   Type   Process name                             Usage      |\n",
      "|=============================================================================|\n",
      "|    0      1504    C+G   Insufficient Permissions                   N/A      |\n",
      "|    0     12536    C+G   ...2.3302.0_x64__8wekyb3d8bbwe\\GameBar.exe N/A      |\n",
      "+-----------------------------------------------------------------------------+\n"
     ]
    }
   ],
   "source": [
    "!nvidia-smi"
   ]
  },
  {
   "cell_type": "code",
   "execution_count": 2,
   "id": "10679324",
   "metadata": {
    "scrolled": true
   },
   "outputs": [],
   "source": [
    "import pandas as pd\n",
    "import numpy as np\n",
    "import pickle\n",
    "from tensorflow.keras import regularizers"
   ]
  },
  {
   "cell_type": "code",
   "execution_count": 3,
   "id": "9c4c376e",
   "metadata": {},
   "outputs": [],
   "source": [
    "maxlen=100 #  在100个词后截断评论\n",
    "max_words=50000 # 考虑前10000个出现的词 发现有134658个word_index，故调整为50000"
   ]
  },
  {
   "cell_type": "code",
   "execution_count": 4,
   "id": "faa9a537",
   "metadata": {
    "scrolled": true
   },
   "outputs": [],
   "source": [
    "data=np.load(\"./data_50000_100.npy\")\n",
    "labels=np.load(\"./labels.npy\")\n",
    "# Embedding_matrix=np.load(\"./Embedding/Embedding_matrix_100.npy\")"
   ]
  },
  {
   "cell_type": "raw",
   "id": "9e1234f3",
   "metadata": {},
   "source": [
    "from tensorflow.keras import layers\n",
    "from tensorflow.keras import Input\n",
    "from tensorflow.keras.models import Model\n",
    "from tensorflow.keras import regularizers\n",
    "def build_model_cnn_GRU():\n",
    "    Input_=Input(shape=(maxlen,),name='Input_data')\n",
    "    Embed=layers.Embedding(max_words,Embedding_matrix.shape[1])(Input_)\n",
    "    Conv_1=layers.Conv1D(128,5,activation='relu',input_shape=(Embedding_matrix.shape[1],maxlen))(Embed)\n",
    "    Max_p=layers.MaxPooling1D(2)(Conv_1)\n",
    "    Conv_2=layers.Conv1D(128,5,activation='relu')(Max_p)\n",
    "    GRU_1=layers.Bidirectional(layers.GRU(64,recurrent_dropout=0.5,activation='relu'))(Conv_2)\n",
    "    GRU_1=layers.Dropout(0.5)(GRU_1)\n",
    "    Dense_1=layers.Dense(128,activation='relu',kernel_regularizer=regularizers.l2(0.001))(GRU_1)\n",
    "    Dense_2=layers.Dense(64,activation='relu',kernel_regularizer=regularizers.l2(0.001))(Dense_1)\n",
    "    Output_=layers.Dense(1,activation='sigmoid')(Dense_2)\n",
    "    model=Model(Input_,Output_)\n",
    "    model.layers[1].set_weights([Embedding_matrix])\n",
    "    model.layers[1].trainable=False\n",
    "    model.summary()\n",
    "    return model"
   ]
  },
  {
   "cell_type": "code",
   "execution_count": 5,
   "id": "f28b0e51",
   "metadata": {},
   "outputs": [],
   "source": [
    "from tensorflow.keras import layers\n",
    "from tensorflow.keras import Input\n",
    "from tensorflow.keras.models import Model\n",
    "from tensorflow.keras import regularizers\n",
    "def build_model_cnn_GRU():\n",
    "    Input_=Input(shape=(maxlen,),name='Input_data')\n",
    "    Embed=layers.Embedding(max_words,128)(Input_)\n",
    "    Conv_1=layers.Conv1D(128,3,activation='relu',input_shape=(maxlen,128))(Embed)\n",
    "    Max_p=layers.MaxPooling1D(3)(Conv_1)\n",
    "    Conv_2=layers.Conv1D(128,3,activation='relu')(Max_p)\n",
    "    GRU_1=layers.Bidirectional(layers.GRU(64,recurrent_dropout=0.5,activation='relu'))(Conv_2)\n",
    "    GRU_1=layers.Dropout(0.5)(GRU_1)\n",
    "    Dense_1=layers.Dense(128,activation='relu',kernel_regularizer=regularizers.l2(0.001))(GRU_1)\n",
    "    Dense_2=layers.Dense(64,activation='relu',kernel_regularizer=regularizers.l2(0.001))(Dense_1)\n",
    "    Output_=layers.Dense(1,activation='sigmoid')(Dense_2)\n",
    "    model=Model(Input_,Output_)\n",
    "    model.summary()\n",
    "    return model"
   ]
  },
  {
   "cell_type": "raw",
   "id": "f1ee5cb7",
   "metadata": {},
   "source": [
    "from keras import layers\n",
    "from keras import models\n",
    "def Build_model(): # 第二层变为128\n",
    "    model=models.Sequential()\n",
    "    model.add(layers.Embedding(Embedding_matrix.shape[0],Embedding_matrix.shape[1],input_length=maxlen))\n",
    "    # model.add(SeqSelfAttention())\n",
    "    model.add(layers.Bidirectional(layers.LSTM(128,return_sequences=True,dropout=0.3)))\n",
    "    # model.add(layers.LSTM(128,return_sequences=True,kernel_regularizer=regularizers.l2(0.001)))\n",
    "    model.add(layers.LSTM(64,kernel_regularizer=regularizers.l2(0.001)))\n",
    "    model.add(layers.Dropout(0.3))\n",
    "    model.add(layers.Dense(64,activation='relu',kernel_regularizer=regularizers.l2(0.001)))\n",
    "    model.add(layers.Dense(1,activation='sigmoid'))\n",
    "    model.layers[0].set_weights([Embedding_matrix])\n",
    "    model.layers[0].trainable=False\n",
    "    model.summary()\n",
    "    return model"
   ]
  },
  {
   "cell_type": "code",
   "execution_count": 6,
   "id": "7c2920fb",
   "metadata": {},
   "outputs": [
    {
     "name": "stdout",
     "output_type": "stream",
     "text": [
      "WARNING:tensorflow:`period` argument is deprecated. Please use `save_freq` to specify the frequency in number of batches seen.\n"
     ]
    }
   ],
   "source": [
    "from tensorflow.keras.callbacks import ModelCheckpoint\n",
    "checkpointer = ModelCheckpoint( './models/CNN_GRU_{epoch:02d}.h5',\n",
    "                                   verbose=1, mode='auto',monitor='val_acc',save_best_only=True,period=1)"
   ]
  },
  {
   "cell_type": "code",
   "execution_count": 7,
   "id": "7346ac39",
   "metadata": {
    "scrolled": false
   },
   "outputs": [
    {
     "name": "stdout",
     "output_type": "stream",
     "text": [
      "WARNING:tensorflow:Layer gru will not use cuDNN kernel since it doesn't meet the cuDNN kernel criteria. It will use generic GPU kernel as fallback when running on GPU\n",
      "WARNING:tensorflow:Layer gru will not use cuDNN kernel since it doesn't meet the cuDNN kernel criteria. It will use generic GPU kernel as fallback when running on GPU\n",
      "WARNING:tensorflow:Layer gru will not use cuDNN kernel since it doesn't meet the cuDNN kernel criteria. It will use generic GPU kernel as fallback when running on GPU\n",
      "Model: \"functional_1\"\n",
      "_________________________________________________________________\n",
      "Layer (type)                 Output Shape              Param #   \n",
      "=================================================================\n",
      "Input_data (InputLayer)      [(None, 100)]             0         \n",
      "_________________________________________________________________\n",
      "embedding (Embedding)        (None, 100, 128)          6400000   \n",
      "_________________________________________________________________\n",
      "conv1d (Conv1D)              (None, 98, 128)           49280     \n",
      "_________________________________________________________________\n",
      "max_pooling1d (MaxPooling1D) (None, 32, 128)           0         \n",
      "_________________________________________________________________\n",
      "conv1d_1 (Conv1D)            (None, 30, 128)           49280     \n",
      "_________________________________________________________________\n",
      "bidirectional (Bidirectional (None, 128)               74496     \n",
      "_________________________________________________________________\n",
      "dropout (Dropout)            (None, 128)               0         \n",
      "_________________________________________________________________\n",
      "dense (Dense)                (None, 128)               16512     \n",
      "_________________________________________________________________\n",
      "dense_1 (Dense)              (None, 64)                8256      \n",
      "_________________________________________________________________\n",
      "dense_2 (Dense)              (None, 1)                 65        \n",
      "=================================================================\n",
      "Total params: 6,597,889\n",
      "Trainable params: 6,597,889\n",
      "Non-trainable params: 0\n",
      "_________________________________________________________________\n"
     ]
    }
   ],
   "source": [
    "model=build_model_cnn_GRU()\n",
    "model.compile(optimizer='adam',\n",
    "             loss='binary_crossentropy',\n",
    "             metrics=['acc'])"
   ]
  },
  {
   "cell_type": "code",
   "execution_count": null,
   "id": "3b4eed9d",
   "metadata": {
    "scrolled": true
   },
   "outputs": [
    {
     "name": "stdout",
     "output_type": "stream",
     "text": [
      "Epoch 1/20\n",
      "2324/6250 [==========>...................] - ETA: 26:13 - loss: 0.6371 - acc: 0.6395"
     ]
    }
   ],
   "source": [
    "history=model.fit(data,\n",
    "          labels,\n",
    "          epochs=20,\n",
    "          batch_size=128,\n",
    "          validation_split=0.2,\n",
    "            callbacks=[checkpointer])"
   ]
  },
  {
   "cell_type": "raw",
   "id": "cea9d6e4",
   "metadata": {},
   "source": []
  },
  {
   "cell_type": "code",
   "execution_count": null,
   "id": "83d2dcbd",
   "metadata": {},
   "outputs": [],
   "source": []
  }
 ],
 "metadata": {
  "kernelspec": {
   "display_name": "Python [conda env:tensorflow]",
   "language": "python",
   "name": "conda-env-tensorflow-py"
  },
  "language_info": {
   "codemirror_mode": {
    "name": "ipython",
    "version": 3
   },
   "file_extension": ".py",
   "mimetype": "text/x-python",
   "name": "python",
   "nbconvert_exporter": "python",
   "pygments_lexer": "ipython3",
   "version": "3.8.12"
  }
 },
 "nbformat": 4,
 "nbformat_minor": 5
}
