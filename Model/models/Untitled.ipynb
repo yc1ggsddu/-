{
 "cells": [
  {
   "cell_type": "code",
   "execution_count": 1,
   "id": "4b1f45d6",
   "metadata": {},
   "outputs": [],
   "source": [
    "import pandas as pd\n",
    "import jieba\n",
    "import re\n",
    "import numpy as np\n",
    "import gensim\n",
    "from keras_self_attention import SeqSelfAttention\n",
    "import pickle\n",
    "from keras import layers\n",
    "from keras import models\n",
    "import collections\n",
    "from keras import regularizers"
   ]
  },
  {
   "cell_type": "code",
   "execution_count": 2,
   "id": "129cff75",
   "metadata": {},
   "outputs": [
    {
     "name": "stdout",
     "output_type": "stream",
     "text": [
      "WARNING:tensorflow:Some requested devices in `tf.distribute.Strategy` are not visible to TensorFlow: /job:localhost/replica:0/task:0/device:GPU:0,/job:localhost/replica:0/task:0/device:GPU:1\n",
      "INFO:tensorflow:Using MirroredStrategy with devices ('/job:localhost/replica:0/task:0/device:GPU:0', '/job:localhost/replica:0/task:0/device:GPU:1')\n",
      "Number of devices: 2\n"
     ]
    }
   ],
   "source": [
    "import keras\n",
    "keras.backend.clear_session()\n",
    "\n",
    "import tensorflow as tf\n",
    "config = tf.compat.v1.ConfigProto()\n",
    "config.gpu_options.per_process_gpu_memory_fraction = 0.9\n",
    "\n",
    "strategy = tf.distribute.MirroredStrategy(devices=[\"/gpu:0\", \"/gpu:1\"])\n",
    "print('Number of devices: %d' % strategy.num_replicas_in_sync)  # 输出设备数量"
   ]
  },
  {
   "cell_type": "code",
   "execution_count": 3,
   "id": "09c2dfc7",
   "metadata": {},
   "outputs": [],
   "source": [
    "maxlen=100 #  在100个词后截断评论\n",
    "max_words=50000 # 考虑前50000个出现的词 发现有134658个word_index，故调整为50000\n",
    "embedding_dim=100"
   ]
  },
  {
   "cell_type": "code",
   "execution_count": 4,
   "id": "1212a25e",
   "metadata": {},
   "outputs": [],
   "source": [
    "data=np.load(\"./data_50000_100.npy\")\n",
    "labels=np.load(\"./labels.npy\")\n",
    "Embedding_matrix=np.load(\"./Embedding/Embedding_matrix_50000_100_big.npy\")"
   ]
  },
  {
   "cell_type": "code",
   "execution_count": 5,
   "id": "e4df72d2",
   "metadata": {},
   "outputs": [],
   "source": [
    "def shuffle_data(data,labels):\n",
    "    indices=np.arange(data.shape[0])\n",
    "    np.random.shuffle(indices)\n",
    "    data=data[indices]\n",
    "    labels=labels[indices]\n",
    "    return [data,labels]"
   ]
  },
  {
   "cell_type": "code",
   "execution_count": 6,
   "id": "494452d8",
   "metadata": {},
   "outputs": [],
   "source": [
    "[data,labels]=shuffle_data(data,labels)"
   ]
  },
  {
   "cell_type": "code",
   "execution_count": 7,
   "id": "9e791506",
   "metadata": {},
   "outputs": [],
   "source": [
    "def Build_model(): # 第二层变为128\n",
    "    model=models.Sequential()\n",
    "    model.add(layers.Embedding(Embedding_matrix.shape[0],Embedding_matrix.shape[1],input_length=maxlen))\n",
    "    # model.add(SeqSelfAttention())\n",
    "    model.add(layers.Bidirectional(layers.LSTM(128,return_sequences=True,dropout=0.3)))\n",
    "    # model.add(layers.LSTM(128,return_sequences=True,kernel_regularizer=regularizers.l2(0.001)))\n",
    "    model.add(layers.LSTM(128,kernel_regularizer=regularizers.l2(0.001)))\n",
    "    model.add(layers.Dropout(0.3))\n",
    "    model.add(layers.Dense(64,activation='relu',kernel_regularizer=regularizers.l2(0.001)))\n",
    "    model.add(layers.Dense(1,activation='sigmoid'))\n",
    "    model.layers[0].set_weights([Embedding_matrix])\n",
    "    model.layers[0].trainable=False\n",
    "    model.summary()\n",
    "    return model"
   ]
  },
  {
   "cell_type": "code",
   "execution_count": null,
   "id": "d566f25c",
   "metadata": {},
   "outputs": [
    {
     "name": "stdout",
     "output_type": "stream",
     "text": [
      "Model: \"sequential\"\n",
      "_________________________________________________________________\n",
      "Layer (type)                 Output Shape              Param #   \n",
      "=================================================================\n",
      "embedding (Embedding)        (None, 100, 100)          5000000   \n",
      "_________________________________________________________________\n",
      "bidirectional (Bidirectional (None, 100, 256)          234496    \n",
      "_________________________________________________________________\n",
      "lstm_1 (LSTM)                (None, 128)               197120    \n",
      "_________________________________________________________________\n",
      "dropout (Dropout)            (None, 128)               0         \n",
      "_________________________________________________________________\n",
      "dense (Dense)                (None, 64)                8256      \n",
      "_________________________________________________________________\n",
      "dense_1 (Dense)              (None, 1)                 65        \n",
      "=================================================================\n",
      "Total params: 5,439,937\n",
      "Trainable params: 439,937\n",
      "Non-trainable params: 5,000,000\n",
      "_________________________________________________________________\n",
      "Epoch 1/20\n",
      "   2/6250 [..............................] - ETA: 5:22 - loss: 1.0938 - acc: 0.6367WARNING:tensorflow:Callbacks method `on_train_batch_end` is slow compared to the batch time (batch time: 0.0140s vs `on_train_batch_end` time: 0.0648s). Check your callbacks.\n",
      "2166/6250 [=========>....................] - ETA: 4:58 - loss: 0.6500 - acc: 0.6362"
     ]
    }
   ],
   "source": [
    "model=Build_model()\n",
    "model.compile(optimizer='adam',\n",
    "             loss='binary_crossentropy',\n",
    "             metrics=['acc'])\n",
    "history=model.fit(data,\n",
    "          labels,\n",
    "          epochs=20,\n",
    "          batch_size=128,\n",
    "          validation_split=0.2,\n",
    "         use_multiprocessing=True)"
   ]
  },
  {
   "cell_type": "code",
   "execution_count": null,
   "id": "fb167b6d",
   "metadata": {},
   "outputs": [],
   "source": []
  }
 ],
 "metadata": {
  "kernelspec": {
   "display_name": "Python [conda env:tensorflow]",
   "language": "python",
   "name": "conda-env-tensorflow-py"
  },
  "language_info": {
   "codemirror_mode": {
    "name": "ipython",
    "version": 3
   },
   "file_extension": ".py",
   "mimetype": "text/x-python",
   "name": "python",
   "nbconvert_exporter": "python",
   "pygments_lexer": "ipython3",
   "version": "3.8.12"
  }
 },
 "nbformat": 4,
 "nbformat_minor": 5
}
