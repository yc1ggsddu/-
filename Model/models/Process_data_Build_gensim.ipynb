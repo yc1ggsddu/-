{
 "cells": [
  {
   "cell_type": "code",
   "execution_count": 1,
   "id": "890133c7",
   "metadata": {},
   "outputs": [],
   "source": [
    "import pandas as pd\n",
    "import jieba\n",
    "import re\n",
    "import numpy as np\n",
    "import gensim\n",
    "from keras_self_attention import SeqSelfAttention\n",
    "import pickle\n",
    "from keras import regularizers"
   ]
  },
  {
   "cell_type": "code",
   "execution_count": 2,
   "id": "839dbc14",
   "metadata": {},
   "outputs": [],
   "source": [
    "maxlen=75 #  在75个词后截断评论\n",
    "max_words=50000 # 考虑前10000个出现的词 发现有134658个word_index，故调整为50000\n",
    "embedding_dim=100"
   ]
  },
  {
   "cell_type": "code",
   "execution_count": 3,
   "id": "bc6b63ae",
   "metadata": {},
   "outputs": [],
   "source": [
    "data=np.load(\"./data_75.npy\")"
   ]
  },
  {
   "cell_type": "code",
   "execution_count": 4,
   "id": "ab219dd0",
   "metadata": {},
   "outputs": [],
   "source": [
    "from keras import layers\n",
    "from keras import models\n",
    "def Build_model(): # 第二层变为128\n",
    "    model=models.Sequential()\n",
    "    model.add(layers.Embedding(Embedding_matrix.shape[0],Embedding_matrix.shape[1],input_length=maxlen))\n",
    "    # model.add(SeqSelfAttention())\n",
    "    model.add(layers.LSTM(128,kernel_regularizer=regularizers.l2(0.001),return_sequences=True))\n",
    "    # model.add(layers.LSTM(128,return_sequences=True,kernel_regularizer=regularizers.l2(0.001)))\n",
    "    model.add(layers.LSTM(128,kernel_regularizer=regularizers.l2(0.001)))\n",
    "    model.add(layers.Dropout(0.3))\n",
    "    model.add(layers.Dense(128,activation='relu',kernel_regularizer=regularizers.l2(0.001)))\n",
    "    model.add(layers.Dense(64,activation='relu',kernel_regularizer=regularizers.l2(0.001)))\n",
    "    model.add(layers.Dense(1,activation='sigmoid'))\n",
    "    model.layers[0].set_weights([Embedding_matrix])\n",
    "    model.layers[0].trainable=False\n",
    "    model.summary()\n",
    "    return model"
   ]
  },
  {
   "cell_type": "code",
   "execution_count": 5,
   "id": "f904b5ac",
   "metadata": {},
   "outputs": [],
   "source": [
    "labels=np.load(\"./labels.npy\")"
   ]
  },
  {
   "cell_type": "code",
   "execution_count": 6,
   "id": "9c6bbe66",
   "metadata": {},
   "outputs": [],
   "source": [
    "Embedding_matrix=np.load(\"./Embedding/Embedding_matrix_200.npy\")"
   ]
  },
  {
   "cell_type": "code",
   "execution_count": 7,
   "id": "3e4c134f",
   "metadata": {},
   "outputs": [
    {
     "name": "stdout",
     "output_type": "stream",
     "text": [
      "WARNING:tensorflow:`period` argument is deprecated. Please use `save_freq` to specify the frequency in number of batches seen.\n"
     ]
    }
   ],
   "source": [
    "from tensorflow.keras.callbacks import ModelCheckpoint\n",
    "checkpointer = ModelCheckpoint( './model_{epoch:03d}.hdf5',\n",
    "                                   verbose=1, save_weights_only=True,monitor='val_acc',period=1)"
   ]
  },
  {
   "cell_type": "code",
   "execution_count": 8,
   "id": "42c7e306",
   "metadata": {},
   "outputs": [
    {
     "name": "stdout",
     "output_type": "stream",
     "text": [
      "Model: \"sequential\"\n",
      "_________________________________________________________________\n",
      "Layer (type)                 Output Shape              Param #   \n",
      "=================================================================\n",
      "embedding (Embedding)        (None, 75, 200)           10000000  \n",
      "_________________________________________________________________\n",
      "lstm (LSTM)                  (None, 75, 128)           168448    \n",
      "_________________________________________________________________\n",
      "lstm_1 (LSTM)                (None, 128)               131584    \n",
      "_________________________________________________________________\n",
      "dropout (Dropout)            (None, 128)               0         \n",
      "_________________________________________________________________\n",
      "dense (Dense)                (None, 128)               16512     \n",
      "_________________________________________________________________\n",
      "dense_1 (Dense)              (None, 64)                8256      \n",
      "_________________________________________________________________\n",
      "dense_2 (Dense)              (None, 1)                 65        \n",
      "=================================================================\n",
      "Total params: 10,324,865\n",
      "Trainable params: 324,865\n",
      "Non-trainable params: 10,000,000\n",
      "_________________________________________________________________\n",
      "Epoch 1/20\n",
      "6249/6250 [============================>.] - ETA: 0s - loss: 0.6920 - acc: 0.5512\n",
      "Epoch 00001: saving model to .\\model_001.hdf5\n",
      "6250/6250 [==============================] - 292s 47ms/step - loss: 0.6920 - acc: 0.5512 - val_loss: 0.6728 - val_acc: 0.6208\n",
      "Epoch 2/20\n",
      "6249/6250 [============================>.] - ETA: 0s - loss: 0.6880 - acc: 0.5511\n",
      "Epoch 00002: saving model to .\\model_002.hdf5\n",
      "6250/6250 [==============================] - 289s 46ms/step - loss: 0.6880 - acc: 0.5511 - val_loss: 0.6718 - val_acc: 0.6208\n",
      "Epoch 3/20\n",
      "6250/6250 [==============================] - ETA: 0s - loss: 0.6879 - acc: 0.5511\n",
      "Epoch 00003: saving model to .\\model_003.hdf5\n",
      "6250/6250 [==============================] - 291s 47ms/step - loss: 0.6879 - acc: 0.5511 - val_loss: 0.6747 - val_acc: 0.6208\n",
      "Epoch 4/20\n",
      "6249/6250 [============================>.] - ETA: 0s - loss: 0.6879 - acc: 0.5511\n",
      "Epoch 00004: saving model to .\\model_004.hdf5\n",
      "6250/6250 [==============================] - 291s 47ms/step - loss: 0.6879 - acc: 0.5511 - val_loss: 0.6738 - val_acc: 0.6208\n",
      "Epoch 5/20\n",
      "6249/6250 [============================>.] - ETA: 0s - loss: 0.6879 - acc: 0.5511\n",
      "Epoch 00005: saving model to .\\model_005.hdf5\n",
      "6250/6250 [==============================] - 296s 47ms/step - loss: 0.6879 - acc: 0.5511 - val_loss: 0.6725 - val_acc: 0.6208\n",
      "Epoch 6/20\n",
      "6249/6250 [============================>.] - ETA: 0s - loss: 0.6879 - acc: 0.5511\n",
      "Epoch 00006: saving model to .\\model_006.hdf5\n",
      "6250/6250 [==============================] - 288s 46ms/step - loss: 0.6879 - acc: 0.5511 - val_loss: 0.6743 - val_acc: 0.6208\n",
      "Epoch 7/20\n",
      "6249/6250 [============================>.] - ETA: 0s - loss: 0.6879 - acc: 0.5511\n",
      "Epoch 00007: saving model to .\\model_007.hdf5\n",
      "6250/6250 [==============================] - 288s 46ms/step - loss: 0.6879 - acc: 0.5511 - val_loss: 0.6729 - val_acc: 0.6208\n",
      "Epoch 8/20\n",
      "6249/6250 [============================>.] - ETA: 0s - loss: 0.6879 - acc: 0.5511\n",
      "Epoch 00008: saving model to .\\model_008.hdf5\n",
      "6250/6250 [==============================] - 287s 46ms/step - loss: 0.6879 - acc: 0.5511 - val_loss: 0.6730 - val_acc: 0.6208\n",
      "Epoch 9/20\n",
      "6249/6250 [============================>.] - ETA: 0s - loss: 0.6879 - acc: 0.5511\n",
      "Epoch 00009: saving model to .\\model_009.hdf5\n",
      "6250/6250 [==============================] - 286s 46ms/step - loss: 0.6879 - acc: 0.5511 - val_loss: 0.6742 - val_acc: 0.6208\n",
      "Epoch 10/20\n",
      "6249/6250 [============================>.] - ETA: 0s - loss: 0.6879 - acc: 0.5511\n",
      "Epoch 00010: saving model to .\\model_010.hdf5\n",
      "6250/6250 [==============================] - 286s 46ms/step - loss: 0.6879 - acc: 0.5511 - val_loss: 0.6724 - val_acc: 0.6208\n",
      "Epoch 11/20\n",
      "6250/6250 [==============================] - ETA: 0s - loss: 0.6879 - acc: 0.5511\n",
      "Epoch 00011: saving model to .\\model_011.hdf5\n",
      "6250/6250 [==============================] - 286s 46ms/step - loss: 0.6879 - acc: 0.5511 - val_loss: 0.6739 - val_acc: 0.6208\n",
      "Epoch 12/20\n",
      "6249/6250 [============================>.] - ETA: 0s - loss: 0.6879 - acc: 0.5511\n",
      "Epoch 00012: saving model to .\\model_012.hdf5\n",
      "6250/6250 [==============================] - 285s 46ms/step - loss: 0.6879 - acc: 0.5511 - val_loss: 0.6742 - val_acc: 0.6208\n",
      "Epoch 13/20\n",
      "6249/6250 [============================>.] - ETA: 0s - loss: 0.6879 - acc: 0.5511\n",
      "Epoch 00013: saving model to .\\model_013.hdf5\n",
      "6250/6250 [==============================] - 286s 46ms/step - loss: 0.6879 - acc: 0.5511 - val_loss: 0.6736 - val_acc: 0.6208\n",
      "Epoch 14/20\n",
      "6249/6250 [============================>.] - ETA: 0s - loss: 0.6879 - acc: 0.5511\n",
      "Epoch 00014: saving model to .\\model_014.hdf5\n",
      "6250/6250 [==============================] - 287s 46ms/step - loss: 0.6879 - acc: 0.5511 - val_loss: 0.6734 - val_acc: 0.6208\n",
      "Epoch 15/20\n",
      "6249/6250 [============================>.] - ETA: 0s - loss: 0.6879 - acc: 0.5511\n",
      "Epoch 00015: saving model to .\\model_015.hdf5\n",
      "6250/6250 [==============================] - 284s 45ms/step - loss: 0.6879 - acc: 0.5511 - val_loss: 0.6731 - val_acc: 0.6208\n",
      "Epoch 16/20\n",
      "6249/6250 [============================>.] - ETA: 0s - loss: 0.6879 - acc: 0.5511\n",
      "Epoch 00016: saving model to .\\model_016.hdf5\n",
      "6250/6250 [==============================] - 286s 46ms/step - loss: 0.6879 - acc: 0.5511 - val_loss: 0.6740 - val_acc: 0.6208\n",
      "Epoch 17/20\n",
      "6249/6250 [============================>.] - ETA: 0s - loss: 0.6879 - acc: 0.5511\n",
      "Epoch 00017: saving model to .\\model_017.hdf5\n",
      "6250/6250 [==============================] - 288s 46ms/step - loss: 0.6879 - acc: 0.5511 - val_loss: 0.6727 - val_acc: 0.6208\n",
      "Epoch 18/20\n",
      "6249/6250 [============================>.] - ETA: 0s - loss: 0.6879 - acc: 0.5511\n",
      "Epoch 00018: saving model to .\\model_018.hdf5\n",
      "6250/6250 [==============================] - 285s 46ms/step - loss: 0.6879 - acc: 0.5511 - val_loss: 0.6739 - val_acc: 0.6208\n",
      "Epoch 19/20\n",
      "6249/6250 [============================>.] - ETA: 0s - loss: 0.6879 - acc: 0.5511\n",
      "Epoch 00019: saving model to .\\model_019.hdf5\n",
      "6250/6250 [==============================] - 286s 46ms/step - loss: 0.6879 - acc: 0.5511 - val_loss: 0.6742 - val_acc: 0.6208\n",
      "Epoch 20/20\n",
      "6249/6250 [============================>.] - ETA: 0s - loss: 0.6879 - acc: 0.5511\n",
      "Epoch 00020: saving model to .\\model_020.hdf5\n",
      "6250/6250 [==============================] - 286s 46ms/step - loss: 0.6879 - acc: 0.5511 - val_loss: 0.6735 - val_acc: 0.6208\n"
     ]
    }
   ],
   "source": [
    "model=Build_model()\n",
    "model.compile(optimizer='adam',\n",
    "             loss='binary_crossentropy',\n",
    "             metrics=['acc'])\n",
    "history=model.fit(data,\n",
    "          labels,\n",
    "          epochs=20,\n",
    "          batch_size=128,\n",
    "          validation_split=0.2,\n",
    "                 callbacks=[checkpointer])"
   ]
  },
  {
   "cell_type": "code",
   "execution_count": null,
   "id": "14b0bc0f",
   "metadata": {},
   "outputs": [],
   "source": []
  }
 ],
 "metadata": {
  "kernelspec": {
   "display_name": "Python [conda env:tensorflow]",
   "language": "python",
   "name": "conda-env-tensorflow-py"
  },
  "language_info": {
   "codemirror_mode": {
    "name": "ipython",
    "version": 3
   },
   "file_extension": ".py",
   "mimetype": "text/x-python",
   "name": "python",
   "nbconvert_exporter": "python",
   "pygments_lexer": "ipython3",
   "version": "3.8.12"
  }
 },
 "nbformat": 4,
 "nbformat_minor": 5
}
