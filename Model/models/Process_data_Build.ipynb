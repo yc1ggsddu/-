{
 "cells": [
  {
   "cell_type": "code",
   "execution_count": null,
   "id": "0f7ee297",
   "metadata": {},
   "outputs": [],
   "source": [
    "import os\n",
    "os.environ[\"CUDA_VISIBLE_DEVICES\"] = \"-1\"  # 加入这行代码可以只使用cpu，对于自定义LSTM参数类训练，只使用cpu训练速度更快"
   ]
  },
  {
   "cell_type": "code",
   "execution_count": 1,
   "id": "890133c7",
   "metadata": {},
   "outputs": [],
   "source": [
    "import pandas as pd\n",
    "import jieba\n",
    "import re\n",
    "import numpy as np"
   ]
  },
  {
   "cell_type": "code",
   "execution_count": 2,
   "id": "0e1dae8d",
   "metadata": {
    "scrolled": true
   },
   "outputs": [],
   "source": [
    "def word_cut(comments):\n",
    "     words = jieba.cut(comments)\n",
    "     return ','.join(words)# 以逗号连接分割后的词\n",
    "#apply函数默认会按行应用word_cut函数"
   ]
  },
  {
   "cell_type": "code",
   "execution_count": 3,
   "id": "e3d74431",
   "metadata": {},
   "outputs": [],
   "source": [
    "# 从txt文件中读取停止词\n",
    "def Get_stopwords(path):\n",
    "    stopwords=[]\n",
    "    with open(path,encoding='utf-8') as words:\n",
    "        stopwords.extend([i.strip() for i in words.readlines()])\n",
    "    return stopwords\n",
    "stopwords=Get_stopwords(\"./stopwords.txt\")"
   ]
  },
  {
   "cell_type": "code",
   "execution_count": 4,
   "id": "a0f5dac8",
   "metadata": {},
   "outputs": [],
   "source": [
    "def remove_stopwords(segmented_text):\n",
    "     #字符串转为列表\n",
    "     segmented_list = segmented_text.split(',')#根据逗号分隔符，将字符串转为列表\n",
    "     #去停用词\n",
    "     words_without_stopwords = []\n",
    "     for w in segmented_list:\n",
    "         if w not in stopwords:\n",
    "             words_without_stopwords.append(w)\n",
    "     return words_without_stopwords"
   ]
  },
  {
   "cell_type": "code",
   "execution_count": 5,
   "id": "c3fe8274",
   "metadata": {
    "collapsed": true
   },
   "outputs": [
    {
     "name": "stderr",
     "output_type": "stream",
     "text": [
      "C:\\Users\\CHEN\\AppData\\Local\\Temp/ipykernel_58092/225220412.py:3: FutureWarning: The error_bad_lines argument has been deprecated and will be removed in a future version. Use on_bad_lines in the future.\n",
      "\n",
      "\n",
      "  data=pd.read_csv(path,error_bad_lines=False)\n",
      "Building prefix dict from the default dictionary ...\n",
      "Loading model from cache C:\\Users\\CHEN\\AppData\\Local\\Temp\\jieba.cache\n",
      "Loading model cost 2.525 seconds.\n",
      "Prefix dict has been built successfully.\n"
     ]
    }
   ],
   "source": [
    "# 从文件中读取comments和对应标签\n",
    "def Get_comments_and_data(path):\n",
    "    data=pd.read_csv(path,error_bad_lines=False)\n",
    "    # 使用jieba库对comments进行语句切割\n",
    "    data['Comment'] = data['Comment'].apply(word_cut)\n",
    "    # 使用去停用词函数，去除comments中的停用词\n",
    "    data['Comment'] = data['Comment'].apply(remove_stopwords)\n",
    "    # 提取评论及评价\n",
    "    comments=data['Comment'].values\n",
    "    labels=data['label'].values\n",
    "    # 转成列表\n",
    "    comments=comments.tolist()\n",
    "    labels=labels.tolist()\n",
    "    return [comments,labels]\n",
    "[comments,labels]=Get_comments_and_data(\"./new.csv\")"
   ]
  },
  {
   "cell_type": "code",
   "execution_count": 6,
   "id": "8cd42fb6",
   "metadata": {},
   "outputs": [],
   "source": [
    "# 删除comments中的评论的''以及' '以及'\\n'\n",
    "def Remove_blanks(comments):\n",
    "    for com in range(len(comments)):\n",
    "        while ' ' in comments[com]:\n",
    "            comments[com].remove(' ')\n",
    "        while '' in comments[com]:\n",
    "            comments[com].remove('')\n",
    "        while '\\n' in comments[com]:\n",
    "            comments[com].remove('\\n')\n",
    "Remove_blanks(comments)"
   ]
  },
  {
   "cell_type": "code",
   "execution_count": 7,
   "id": "8917be74",
   "metadata": {},
   "outputs": [],
   "source": [
    "from keras.preprocessing.text import Tokenizer\n",
    "from keras.preprocessing.sequence import pad_sequences"
   ]
  },
  {
   "cell_type": "code",
   "execution_count": 8,
   "id": "4b4c36cd",
   "metadata": {},
   "outputs": [],
   "source": [
    "# 使用keras中自带的分词器统计前10000个出现的词，基于计数频率进行词嵌入，并转化为可以放入神经网络的sequence形式\n",
    "maxlen=100 #  在100个词后截断评论\n",
    "max_words=10000 # 考虑前10000个出现的词\n",
    "def Trans_texts_to_seq(comments):\n",
    "    global maxlen,max_words\n",
    "    tokenizer=Tokenizer(num_words=max_words)\n",
    "    tokenizer.fit_on_texts(comments)\n",
    "    sequences=tokenizer.texts_to_sequences(comments)\n",
    "    data=pad_sequences(sequences,maxlen=maxlen)\n",
    "    return data"
   ]
  },
  {
   "cell_type": "code",
   "execution_count": 9,
   "id": "13b35d61",
   "metadata": {},
   "outputs": [],
   "source": [
    "data=Trans_texts_to_seq(comments)"
   ]
  },
  {
   "cell_type": "code",
   "execution_count": 10,
   "id": "f904b5ac",
   "metadata": {},
   "outputs": [],
   "source": [
    "labels=np.asarray(labels)"
   ]
  },
  {
   "cell_type": "code",
   "execution_count": 11,
   "id": "c1d8ceb2",
   "metadata": {},
   "outputs": [],
   "source": [
    "def shuffle_data(data,labels):\n",
    "    indices=np.arange(data.shape[0])\n",
    "    np.random.shuffle(indices)\n",
    "    data=data[indices]\n",
    "    labels=labels[indices]"
   ]
  },
  {
   "cell_type": "code",
   "execution_count": 12,
   "id": "d81d2bdf",
   "metadata": {},
   "outputs": [],
   "source": [
    "shuffle_data(data,labels)"
   ]
  },
  {
   "cell_type": "code",
   "execution_count": null,
   "id": "d3a27b56",
   "metadata": {},
   "outputs": [],
   "source": [
    "x_train=data[:200000]\n",
    "y_train=labels[:200000]"
   ]
  },
  {
   "cell_type": "code",
   "execution_count": 16,
   "id": "ab219dd0",
   "metadata": {},
   "outputs": [],
   "source": [
    "from keras import layers\n",
    "from keras import models\n",
    "def Build_model():\n",
    "    model=models.Sequential()\n",
    "    model.add(layers.Embedding(max_words,maxlen,input_length=maxlen))\n",
    "    model.add(layers.LSTM(128,return_sequences=True,dropout=0.2))\n",
    "    model.add(layers.GlobalAveragePooling1D())\n",
    "    model.add(layers.Dense(64,activation='relu'))\n",
    "    model.add(layers.Dense(1,activation='sigmoid'))\n",
    "    return model"
   ]
  },
  {
   "cell_type": "code",
   "execution_count": 17,
   "id": "2e5d2cdb",
   "metadata": {
    "scrolled": true
   },
   "outputs": [],
   "source": [
    "def K_fold_validation(data,labels):\n",
    "    k=5 # 5折交叉验证\n",
    "    num_samples=len(data)//k\n",
    "    shuffle_data(data,labels)\n",
    "    validation_scores=[]\n",
    "    num_epochs=10\n",
    "    for fold in range(k):\n",
    "        val_data=data[num_samples*fold:num_samples*(fold+1)]\n",
    "        val_labels=labels[num_samples*fold:num_samples*(fold+1)]\n",
    "        train_data=np.concatenate((data[:num_samples*fold],data[num_samples*(fold+1):]))\n",
    "        train_labels=np.concatenate((labels[:num_samples*fold],labels[num_samples*(fold+1):]))\n",
    "        model=Build_model()\n",
    "        model.compile(optimizer='rmsprop',\n",
    "             loss='binary_crossentropy',\n",
    "             metrics=['acc'])\n",
    "        model.fit(train_data,train_labels,epochs=num_epochs,batch_size=128)\n",
    "        loss,accuracy=model.evaluate(val_data,val_labels)\n",
    "        validation_scores.append(accuracy)\n",
    "        print(\"Next_fold\")\n",
    "    return sum(validation_scores)/k"
   ]
  },
  {
   "cell_type": "code",
   "execution_count": 15,
   "id": "bf25f347",
   "metadata": {
    "scrolled": true
   },
   "outputs": [
    {
     "name": "stdout",
     "output_type": "stream",
     "text": [
      "Epoch 1/10\n",
      "1250/1250 [==============================] - 53s 43ms/step - loss: 0.6021 - acc: 0.6700\n",
      "Epoch 2/10\n",
      "1250/1250 [==============================] - 53s 42ms/step - loss: 0.5620 - acc: 0.7065\n",
      "Epoch 3/10\n",
      "1250/1250 [==============================] - 52s 42ms/step - loss: 0.5420 - acc: 0.7219\n",
      "Epoch 4/10\n",
      "1250/1250 [==============================] - 51s 41ms/step - loss: 0.5244 - acc: 0.7353\n",
      "Epoch 5/10\n",
      "1250/1250 [==============================] - 51s 41ms/step - loss: 0.5041 - acc: 0.7504\n",
      "Epoch 6/10\n",
      "1250/1250 [==============================] - 50s 40ms/step - loss: 0.4821 - acc: 0.7646\n",
      "Epoch 7/10\n",
      "1250/1250 [==============================] - 50s 40ms/step - loss: 0.4580 - acc: 0.7806\n",
      "Epoch 8/10\n",
      "1250/1250 [==============================] - 51s 41ms/step - loss: 0.4342 - acc: 0.7941\n",
      "Epoch 9/10\n",
      "1250/1250 [==============================] - 58s 46ms/step - loss: 0.4102 - acc: 0.8072\n",
      "Epoch 10/10\n",
      "1250/1250 [==============================] - 53s 42ms/step - loss: 0.3857 - acc: 0.8203\n",
      "1250/1250 [==============================] - 12s 9ms/step - loss: 0.7739 - acc: 0.6330\n",
      "Epoch 1/10\n",
      "1250/1250 [==============================] - 51s 41ms/step - loss: 0.6026 - acc: 0.6692\n",
      "Epoch 2/10\n",
      "1250/1250 [==============================] - 53s 43ms/step - loss: 0.5632 - acc: 0.7055\n",
      "Epoch 3/10\n",
      "1250/1250 [==============================] - 52s 42ms/step - loss: 0.5446 - acc: 0.7185\n",
      "Epoch 4/10\n",
      "1250/1250 [==============================] - 52s 42ms/step - loss: 0.5271 - acc: 0.7319\n",
      "Epoch 5/10\n",
      "1250/1250 [==============================] - 51s 41ms/step - loss: 0.5089 - acc: 0.7447\n",
      "Epoch 6/10\n",
      "1250/1250 [==============================] - 53s 42ms/step - loss: 0.4881 - acc: 0.7600\n",
      "Epoch 7/10\n",
      "1250/1250 [==============================] - 65s 52ms/step - loss: 0.4673 - acc: 0.7741\n",
      "Epoch 8/10\n",
      "1250/1250 [==============================] - 69s 55ms/step - loss: 0.4453 - acc: 0.7864\n",
      "Epoch 9/10\n",
      "1250/1250 [==============================] - 67s 54ms/step - loss: 0.4233 - acc: 0.7999\n",
      "Epoch 10/10\n",
      "1250/1250 [==============================] - 68s 55ms/step - loss: 0.3999 - acc: 0.8128\n",
      "1250/1250 [==============================] - 17s 14ms/step - loss: 0.7824 - acc: 0.6263\n",
      "Epoch 1/10\n",
      "1250/1250 [==============================] - 67s 54ms/step - loss: 0.5983 - acc: 0.6751\n",
      "Epoch 2/10\n",
      "1250/1250 [==============================] - 67s 54ms/step - loss: 0.5588 - acc: 0.7089\n",
      "Epoch 3/10\n",
      "1250/1250 [==============================] - 54s 43ms/step - loss: 0.5397 - acc: 0.7231\n",
      "Epoch 4/10\n",
      "1250/1250 [==============================] - 54s 43ms/step - loss: 0.5229 - acc: 0.7356\n",
      "Epoch 5/10\n",
      "1250/1250 [==============================] - 54s 43ms/step - loss: 0.5031 - acc: 0.7506\n",
      "Epoch 6/10\n",
      "1250/1250 [==============================] - 55s 44ms/step - loss: 0.4833 - acc: 0.7641\n",
      "Epoch 7/10\n",
      "1250/1250 [==============================] - 55s 44ms/step - loss: 0.4626 - acc: 0.7766\n",
      "Epoch 8/10\n",
      "1250/1250 [==============================] - 55s 44ms/step - loss: 0.4411 - acc: 0.7892\n",
      "Epoch 9/10\n",
      "1250/1250 [==============================] - 57s 46ms/step - loss: 0.4188 - acc: 0.8019\n",
      "Epoch 10/10\n",
      "1250/1250 [==============================] - 54s 43ms/step - loss: 0.3954 - acc: 0.8147\n",
      "1250/1250 [==============================] - 13s 10ms/step - loss: 0.8080 - acc: 0.6198\n",
      "Epoch 1/10\n",
      "1250/1250 [==============================] - 54s 43ms/step - loss: 0.6029 - acc: 0.6705\n",
      "Epoch 2/10\n",
      "1250/1250 [==============================] - 58s 47ms/step - loss: 0.5615 - acc: 0.7064\n",
      "Epoch 3/10\n",
      "1250/1250 [==============================] - 57s 45ms/step - loss: 0.5435 - acc: 0.7195\n",
      "Epoch 4/10\n",
      "1250/1250 [==============================] - 56s 45ms/step - loss: 0.5262 - acc: 0.7328\n",
      "Epoch 5/10\n",
      "1250/1250 [==============================] - 56s 45ms/step - loss: 0.5079 - acc: 0.7459\n",
      "Epoch 6/10\n",
      "1250/1250 [==============================] - 55s 44ms/step - loss: 0.4878 - acc: 0.7610\n",
      "Epoch 7/10\n",
      "1250/1250 [==============================] - 55s 44ms/step - loss: 0.4674 - acc: 0.7733\n",
      "Epoch 8/10\n",
      "1250/1250 [==============================] - 56s 44ms/step - loss: 0.4448 - acc: 0.7875\n",
      "Epoch 9/10\n",
      "1250/1250 [==============================] - 59s 48ms/step - loss: 0.4217 - acc: 0.8001\n",
      "Epoch 10/10\n",
      "1250/1250 [==============================] - 58s 46ms/step - loss: 0.3985 - acc: 0.8141\n",
      "1250/1250 [==============================] - 16s 13ms/step - loss: 0.7605 - acc: 0.6279\n",
      "Epoch 1/10\n",
      "1250/1250 [==============================] - 55s 44ms/step - loss: 0.6019 - acc: 0.6694\n",
      "Epoch 2/10\n",
      "1250/1250 [==============================] - 58s 47ms/step - loss: 0.5629 - acc: 0.7050\n",
      "Epoch 3/10\n",
      "1250/1250 [==============================] - 57s 45ms/step - loss: 0.5455 - acc: 0.7184\n",
      "Epoch 4/10\n",
      "1250/1250 [==============================] - 56s 45ms/step - loss: 0.5284 - acc: 0.7316\n",
      "Epoch 5/10\n",
      "1250/1250 [==============================] - 58s 46ms/step - loss: 0.5100 - acc: 0.7453\n",
      "Epoch 6/10\n",
      "1250/1250 [==============================] - 57s 45ms/step - loss: 0.4896 - acc: 0.7594\n",
      "Epoch 7/10\n",
      "1250/1250 [==============================] - 56s 45ms/step - loss: 0.4697 - acc: 0.7721\n",
      "Epoch 8/10\n",
      "1250/1250 [==============================] - 59s 47ms/step - loss: 0.4489 - acc: 0.7849 5s - loss: 0.4475 - acc: - ETA: 4s - loss: 0.4478 - acc - ETA - ETA: \n",
      "Epoch 9/10\n",
      "1250/1250 [==============================] - 62s 50ms/step - loss: 0.4266 - acc: 0.7986\n",
      "Epoch 10/10\n",
      "1250/1250 [==============================] - 63s 51ms/step - loss: 0.4028 - acc: 0.8111\n",
      "1250/1250 [==============================] - 18s 14ms/step - loss: 0.7584 - acc: 0.6319\n",
      "0.6277600049972534\n"
     ]
    }
   ],
   "source": [
    "scores=K_fold_validation(data,labels)\n",
    "print(scores)"
   ]
  },
  {
   "cell_type": "code",
   "execution_count": 27,
   "id": "5ccff286",
   "metadata": {},
   "outputs": [],
   "source": [
    "model=Build_model()\n",
    "model.compile(optimizer='rmsprop',\n",
    "             loss='binary_crossentropy',\n",
    "             metrics=['acc'])"
   ]
  },
  {
   "cell_type": "code",
   "execution_count": 28,
   "id": "46e9d560",
   "metadata": {
    "collapsed": true
   },
   "outputs": [
    {
     "name": "stdout",
     "output_type": "stream",
     "text": [
      "Epoch 1/10\n",
      "1250/1250 [==============================] - 119s 95ms/step - loss: 0.7616 - acc: 0.6670 - val_loss: 0.5923 - val_acc: 0.6844\n",
      "Epoch 2/10\n",
      "1250/1250 [==============================] - 122s 97ms/step - loss: 12.0670 - acc: 0.7029 - val_loss: 0.5893 - val_acc: 0.6861\n",
      "Epoch 3/10\n",
      "1250/1250 [==============================] - 127s 101ms/step - loss: 24.7615 - acc: 0.7145 - val_loss: 0.6084 - val_acc: 0.6837\n",
      "Epoch 4/10\n",
      "1250/1250 [==============================] - 120s 96ms/step - loss: 9.5526 - acc: 0.7224 - val_loss: 842.7520 - val_acc: 0.6838\n",
      "Epoch 5/10\n",
      "1250/1250 [==============================] - 120s 96ms/step - loss: 399.0883 - acc: 0.7294 - val_loss: 0.6045 - val_acc: 0.6837\n",
      "Epoch 6/10\n",
      "1250/1250 [==============================] - 122s 98ms/step - loss: 391.4456 - acc: 0.7364 - val_loss: 0.5989 - val_acc: 0.6790\n",
      "Epoch 7/10\n",
      "1250/1250 [==============================] - 121s 97ms/step - loss: 216.8804 - acc: 0.7431 - val_loss: 13.6295 - val_acc: 0.6753\n",
      "Epoch 8/10\n",
      "1250/1250 [==============================] - 127s 101ms/step - loss: 75.6965 - acc: 0.7483 - val_loss: 0.6189 - val_acc: 0.6732\n",
      "Epoch 9/10\n",
      "1250/1250 [==============================] - 123s 99ms/step - loss: 37.5746 - acc: 0.7520 - val_loss: 0.6097 - val_acc: 0.6729\n",
      "Epoch 10/10\n",
      "1250/1250 [==============================] - 123s 98ms/step - loss: 1566818.1250 - acc: 0.7607 - val_loss: 64107.8008 - val_acc: 0.6692\n"
     ]
    },
    {
     "data": {
      "image/png": "[encoded data removed]",
      "text/plain": [
       "<Figure size 432x288 with 1 Axes>"
      ]
     },
     "metadata": {
      "needs_background": "light"
     },
     "output_type": "display_data"
    }
   ],
   "source": [
    "history=model.fit(x_train,y_train,\n",
    "                 epochs=10,\n",
    "                 batch_size=128,\n",
    "                 validation_split=0.2)\n",
    "import matplotlib.pyplot as plt\n",
    "\n",
    "history_dict=history.history\n",
    "loss_values=history_dict['acc']\n",
    "val_loss_values=history_dict['val_acc']\n",
    "\n",
    "epoches=range(1,len(loss_values)+1)\n",
    "\n",
    "plt.plot(epoches,loss_values,'bo',label='Training acc')\n",
    "plt.plot(epoches,val_loss_values,'b',label='Validation acc')\n",
    "plt.title('Training and Validation Acc')\n",
    "plt.xlabel('Epoches')\n",
    "plt.ylabel('Acc')\n",
    "\n",
    "plt.legend()\n",
    "plt.show()"
   ]
  }
 ],
 "metadata": {
  "kernelspec": {
   "display_name": "Python [conda env:tensorflow]",
   "language": "python",
   "name": "conda-env-tensorflow-py"
  },
  "language_info": {
   "codemirror_mode": {
    "name": "ipython",
    "version": 3
   },
   "file_extension": ".py",
   "mimetype": "text/x-python",
   "name": "python",
   "nbconvert_exporter": "python",
   "pygments_lexer": "ipython3",
   "version": "3.8.12"
  }
 },
 "nbformat": 4,
 "nbformat_minor": 5
}
