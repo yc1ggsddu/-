{
 "cells": [
  {
   "cell_type": "markdown",
   "id": "1d79e153",
   "metadata": {},
   "source": [
    "import os\n",
    "os.environ[\"CUDA_VISIBLE_DEVICES\"] = \"-1\"  # 加入这行代码可以只使用cpu，对于自定义LSTM参数类训练，只使用cpu训练速度更快"
   ]
  },
  {
   "cell_type": "code",
   "execution_count": 1,
   "id": "10679324",
   "metadata": {},
   "outputs": [],
   "source": [
    "import pandas as pd\n",
    "import jieba\n",
    "import re\n",
    "import numpy as np\n",
    "import gensim\n",
    "from keras_self_attention import SeqSelfAttention\n",
    "import pickle\n",
    "from keras import regularizers"
   ]
  },
  {
   "cell_type": "code",
   "execution_count": 2,
   "id": "17495d49",
   "metadata": {},
   "outputs": [
    {
     "name": "stdout",
     "output_type": "stream",
     "text": [
      "['/device:GPU:0']\n"
     ]
    }
   ],
   "source": [
    "from tensorflow.python.client import device_lib\n",
    "\n",
    "def get_available_gpus():\n",
    "  local_device_protos = device_lib.list_local_devices()\n",
    "  return [x.name for x in local_device_protos if x.device_type == 'GPU']\n",
    "\n",
    "print(get_available_gpus())"
   ]
  },
  {
   "cell_type": "code",
   "execution_count": 3,
   "id": "9c4c376e",
   "metadata": {},
   "outputs": [],
   "source": [
    "maxlen=100 #  在100个词后截断评论\n",
    "max_words=50000 # 考虑前10000个出现的词 发现有134658个word_index，故调整为50000\n",
    "embedding_dim=200"
   ]
  },
  {
   "cell_type": "code",
   "execution_count": 4,
   "id": "faa9a537",
   "metadata": {
    "scrolled": true
   },
   "outputs": [],
   "source": [
    "data=np.load(\"./data_50000_100.npy\")\n",
    "labels=np.load(\"./labels.npy\")\n",
    "Embedding_matrix=np.load(\"./Embedding/Embedding_matrix_200.npy\")"
   ]
  },
  {
   "cell_type": "code",
   "execution_count": 5,
   "id": "d5d5da60",
   "metadata": {
    "scrolled": true
   },
   "outputs": [
    {
     "data": {
      "text/plain": [
       "49999"
      ]
     },
     "execution_count": 5,
     "metadata": {},
     "output_type": "execute_result"
    }
   ],
   "source": [
    "data.max()"
   ]
  },
  {
   "cell_type": "code",
   "execution_count": 6,
   "id": "73fc4621",
   "metadata": {},
   "outputs": [
    {
     "data": {
      "text/plain": [
       "(50000, 200)"
      ]
     },
     "execution_count": 6,
     "metadata": {},
     "output_type": "execute_result"
    }
   ],
   "source": [
    "Embedding_matrix.shape"
   ]
  },
  {
   "cell_type": "code",
   "execution_count": 7,
   "id": "5cc132cd",
   "metadata": {},
   "outputs": [],
   "source": [
    "from keras import layers\n",
    "from keras import models\n",
    "def Build_model(): # 第二层变为128\n",
    "    model=models.Sequential()\n",
    "    model.add(layers.Embedding(Embedding_matrix.shape[0],Embedding_matrix.shape[1],input_length=maxlen))\n",
    "    # model.add(SeqSelfAttention())\n",
    "    model.add(layers.Bidirectional(layers.LSTM(128,return_sequences=True,dropout=0.3)))\n",
    "    # model.add(layers.LSTM(128,return_sequences=True,kernel_regularizer=regularizers.l2(0.001)))\n",
    "    model.add(layers.LSTM(64,kernel_regularizer=regularizers.l2(0.001)))\n",
    "    model.add(layers.Dropout(0.3))\n",
    "    model.add(layers.Dense(64,activation='relu',kernel_regularizer=regularizers.l2(0.001)))\n",
    "    model.add(layers.Dense(1,activation='sigmoid'))\n",
    "    model.layers[0].set_weights([Embedding_matrix])\n",
    "    model.layers[0].trainable=False\n",
    "    model.summary()\n",
    "    return model"
   ]
  },
  {
   "cell_type": "code",
   "execution_count": 8,
   "id": "7346ac39",
   "metadata": {
    "scrolled": true
   },
   "outputs": [
    {
     "name": "stdout",
     "output_type": "stream",
     "text": [
      "Model: \"sequential\"\n",
      "_________________________________________________________________\n",
      "Layer (type)                 Output Shape              Param #   \n",
      "=================================================================\n",
      "embedding (Embedding)        (None, 100, 200)          10000000  \n",
      "_________________________________________________________________\n",
      "bidirectional (Bidirectional (None, 100, 256)          336896    \n",
      "_________________________________________________________________\n",
      "lstm_1 (LSTM)                (None, 64)                82176     \n",
      "_________________________________________________________________\n",
      "dropout (Dropout)            (None, 64)                0         \n",
      "_________________________________________________________________\n",
      "dense (Dense)                (None, 64)                4160      \n",
      "_________________________________________________________________\n",
      "dense_1 (Dense)              (None, 1)                 65        \n",
      "=================================================================\n",
      "Total params: 10,423,297\n",
      "Trainable params: 423,297\n",
      "Non-trainable params: 10,000,000\n",
      "_________________________________________________________________\n",
      "Epoch 1/20\n",
      "    1/12500 [..............................] - ETA: 3:19 - loss: 1.0171 - acc: 0.3594WARNING:tensorflow:Callbacks method `on_train_batch_end` is slow compared to the batch time (batch time: 0.0160s vs `on_train_batch_end` time: 0.0271s). Check your callbacks.\n",
      "12500/12500 [==============================] - 588s 47ms/step - loss: 0.6038 - acc: 0.6710 - val_loss: 0.5658 - val_acc: 0.7013\n",
      "Epoch 2/20\n",
      "12500/12500 [==============================] - 617s 49ms/step - loss: 0.5807 - acc: 0.6909 - val_loss: 0.5512 - val_acc: 0.7107\n",
      "Epoch 3/20\n",
      "12500/12500 [==============================] - 619s 50ms/step - loss: 0.5711 - acc: 0.6980 - val_loss: 0.5603 - val_acc: 0.7059\n",
      "Epoch 4/20\n",
      "12500/12500 [==============================] - 605s 48ms/step - loss: 0.5641 - acc: 0.7032 - val_loss: 0.5472 - val_acc: 0.7128\n",
      "Epoch 5/20\n",
      "12500/12500 [==============================] - 607s 49ms/step - loss: 0.5583 - acc: 0.7078 - val_loss: 0.5386 - val_acc: 0.7185\n",
      "Epoch 6/20\n",
      "12500/12500 [==============================] - 627s 50ms/step - loss: 0.5541 - acc: 0.7114 - val_loss: 0.5478 - val_acc: 0.7127\n",
      "Epoch 7/20\n",
      "12500/12500 [==============================] - 623s 50ms/step - loss: 0.5494 - acc: 0.7143 - val_loss: 0.5548 - val_acc: 0.7083\n",
      "Epoch 8/20\n",
      "12500/12500 [==============================] - 616s 49ms/step - loss: 0.5457 - acc: 0.7172 - val_loss: 0.5337 - val_acc: 0.7228\n",
      "Epoch 9/20\n",
      "12500/12500 [==============================] - 620s 50ms/step - loss: 0.5429 - acc: 0.7188 - val_loss: 0.5401 - val_acc: 0.7151\n",
      "Epoch 10/20\n",
      "12500/12500 [==============================] - 613s 49ms/step - loss: 0.5398 - acc: 0.7215 - val_loss: 0.5371 - val_acc: 0.7207\n",
      "Epoch 11/20\n",
      "12500/12500 [==============================] - 622s 50ms/step - loss: 0.5384 - acc: 0.7223 - val_loss: 0.5406 - val_acc: 0.7166\n",
      "Epoch 12/20\n",
      "12500/12500 [==============================] - 621s 50ms/step - loss: 0.5357 - acc: 0.7242 - val_loss: 0.5351 - val_acc: 0.7250\n",
      "Epoch 13/20\n",
      "12500/12500 [==============================] - 621s 50ms/step - loss: 0.5345 - acc: 0.7259 - val_loss: 0.5326 - val_acc: 0.7243\n",
      "Epoch 14/20\n",
      "12500/12500 [==============================] - 621s 50ms/step - loss: 0.5315 - acc: 0.7278 - val_loss: 0.5339 - val_acc: 0.7227\n",
      "Epoch 15/20\n",
      "12500/12500 [==============================] - 617s 49ms/step - loss: 0.5310 - acc: 0.7278 - val_loss: 0.5382 - val_acc: 0.7241\n",
      "Epoch 16/20\n",
      "12500/12500 [==============================] - 618s 49ms/step - loss: 0.5289 - acc: 0.7295 - val_loss: 0.5399 - val_acc: 0.7180\n",
      "Epoch 17/20\n",
      "12500/12500 [==============================] - 619s 50ms/step - loss: 0.5273 - acc: 0.7298 - val_loss: 0.5424 - val_acc: 0.7226\n",
      "Epoch 18/20\n",
      "12500/12500 [==============================] - 614s 49ms/step - loss: 0.5249 - acc: 0.7324 - val_loss: 0.5337 - val_acc: 0.7238\n",
      "Epoch 19/20\n",
      "12500/12500 [==============================] - 620s 50ms/step - loss: 0.5235 - acc: 0.7324 - val_loss: 0.5347 - val_acc: 0.7220\n",
      "Epoch 20/20\n",
      "12500/12500 [==============================] - 620s 50ms/step - loss: 0.5219 - acc: 0.7331 - val_loss: 0.5331 - val_acc: 0.7258\n"
     ]
    }
   ],
   "source": [
    "import keras\n",
    "model=Build_model()\n",
    "model.compile(optimizer='adam',\n",
    "             loss='binary_crossentropy',\n",
    "             metrics=['acc'])\n",
    "history=model.fit(data,\n",
    "          labels,\n",
    "          epochs=20,\n",
    "          batch_size=64,\n",
    "          validation_split=0.2,\n",
    "         use_multiprocessing=True )"
   ]
  },
  {
   "cell_type": "code",
   "execution_count": 9,
   "id": "7c2920fb",
   "metadata": {},
   "outputs": [],
   "source": [
    "model.save(\"./72.58%_200_model.h5\")"
   ]
  },
  {
   "cell_type": "code",
   "execution_count": null,
   "id": "3b4eed9d",
   "metadata": {},
   "outputs": [],
   "source": []
  }
 ],
 "metadata": {
  "kernelspec": {
   "display_name": "Python [conda env:tensorflow]",
   "language": "python",
   "name": "conda-env-tensorflow-py"
  },
  "language_info": {
   "codemirror_mode": {
    "name": "ipython",
    "version": 3
   },
   "file_extension": ".py",
   "mimetype": "text/x-python",
   "name": "python",
   "nbconvert_exporter": "python",
   "pygments_lexer": "ipython3",
   "version": "3.8.12"
  }
 },
 "nbformat": 4,
 "nbformat_minor": 5
}
