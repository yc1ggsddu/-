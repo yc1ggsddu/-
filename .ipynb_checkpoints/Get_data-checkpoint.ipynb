{
 "cells": [
  {
   "cell_type": "code",
   "execution_count": 5,
   "id": "ce8b4795",
   "metadata": {},
   "outputs": [],
   "source": [
    "import requests \n",
    "import pandas as pd \n",
    "import re\n",
    "import time\n",
    "from bs4 import BeautifulSoup\n",
    "import urllib\n",
    "import os"
   ]
  },
  {
   "cell_type": "code",
   "execution_count": 6,
   "id": "3d7d3143",
   "metadata": {},
   "outputs": [],
   "source": [
    "# url请求文件头 \n",
    "\n",
    "Header={\n",
    "    'Content-Type':'hext/html;charset=utf-8',\n",
    "    'User-Agent': 'Mozilla/5.0 (Windows NT 10.0; Win64; x64) AppleWebKit/537.36 (KHTML, like Gecko) Chrome/97.0.4692.71 Safari/537.36'\n",
    "}\n",
    "\n",
    "# 登录cookies\n",
    "\n",
    "Cookie ={\n",
    "    'Cookie': 'douban-fav-remind=1; __gads=ID=67b5658dd7f265e3-220c16b303c70034:T=1617540699:RT=1617540699:S=ALNI_MZqQUN36aPHsBtyAlV2xr7aIySM-A; bid=yZA__qnEqFQ; __utmc=30149280; __utmc=223695111; ll=\"118318\"; _vwo_uuid_v2=DEA9FFA2729724C14F78CDBF415A4486A|76044f85f5cbe741d987b651e4415fc1; __yadk_uid=9d7dDWc9fmXt9f6FbCgzhPPQr8mv9Fpv; ck=5rnu; push_doumail_num=0; push_noty_num=0; __utmv=30149280.25493; ct=y; ap_v=0,6.0; __utmz=30149280.1647101738.8.3.utmcsr=movie.douban.com|utmccn=(referral)|utmcmd=referral|utmcct=/subject/35215390/comments; __utma=30149280.1502093653.1608096671.1647101738.1647105626.9; __utmt=1; __utma=223695111.358478780.1608096671.1647101745.1647105629.6; __utmb=223695111.0.10.1647105629; __utmz=223695111.1647105629.6.3.utmcsr=douban.com|utmccn=(referral)|utmcmd=referral|utmcct=/misc/sorry; _pk_ref.100001.4cf6=%5B%22%22%2C%22%22%2C1647105629%2C%22https%3A%2F%2Fwww.douban.com%2Fmisc%2Fsorry%3Foriginal-url%3Dhttps%253A%252F%252Fmovie.douban.com%252Fsubject%252F35215390%252Fcomments%253Fstart%253D20%2526limit%253D20%2526status%253DP%2526sort%253Dnew_score%22%5D; _pk_ses.100001.4cf6=*; __utmb=30149280.6.10.1647105626; _pk_id.100001.4cf6=20099dba9b531dcb.1608096671.6.1647105871.1647101917.'\n",
    "}"
   ]
  },
  {
   "cell_type": "code",
   "execution_count": 8,
   "id": "25e49b8f",
   "metadata": {},
   "outputs": [
    {
     "name": "stdout",
     "output_type": "stream",
     "text": [
      "https://movie.douban.com/subject/35505100/comments?start=0&limit=20&status=P&sort=new_score\n",
      "page 1 is done\n",
      "https://movie.douban.com/subject/35505100/comments?start=20&limit=20&status=P&sort=new_score\n",
      "page 2 is done\n",
      "https://movie.douban.com/subject/35505100/comments?start=40&limit=20&status=P&sort=new_score\n",
      "page 3 is done\n",
      "https://movie.douban.com/subject/35505100/comments?start=60&limit=20&status=P&sort=new_score\n",
      "page 4 is done\n",
      "https://movie.douban.com/subject/35505100/comments?start=80&limit=20&status=P&sort=new_score\n",
      "page 5 is done\n",
      "https://movie.douban.com/subject/35505100/comments?start=100&limit=20&status=P&sort=new_score\n",
      "page 6 is done\n",
      "https://movie.douban.com/subject/35505100/comments?start=120&limit=20&status=P&sort=new_score\n",
      "page 7 is done\n",
      "https://movie.douban.com/subject/35505100/comments?start=140&limit=20&status=P&sort=new_score\n",
      "page 8 is done\n",
      "https://movie.douban.com/subject/35505100/comments?start=160&limit=20&status=P&sort=new_score\n",
      "page 9 is done\n",
      "https://movie.douban.com/subject/35505100/comments?start=180&limit=20&status=P&sort=new_score\n",
      "page 10 is done\n",
      "https://movie.douban.com/subject/35505100/comments?start=200&limit=20&status=P&sort=new_score\n",
      "page 11 is done\n",
      "https://movie.douban.com/subject/35505100/comments?start=220&limit=20&status=P&sort=new_score\n"
     ]
    }
   ],
   "source": [
    "# 由于每页只有20条短评，因此循环抓取多页，循环变量为start，0，20，40......，每次变换只变化前面的start部分，\n",
    "# 只能爬取最多218条数据，再之后的数据无法爬取，显示无权限\n",
    "# 35215390 狙击手\n",
    "# 34858501 刚好喜欢你\n",
    "# 26710112 十年一品温如言\n",
    "# 27203644 尼罗河上的惨案\n",
    "# 35172695 不要忘记我爱你\n",
    "# 35337517 四海\n",
    "# 35505100 这个杀手不太冷静\n",
    "i=0 #从头开始抓取，只选取有评星的用户\n",
    "\n",
    "while i<20: # 本来设置为True，之后发现最多只能爬取十一页数据，故修改为20\n",
    "# 构造请求网址，使用url拼接\n",
    "    url =\"https://movie.douban.com/subject/35505100/comments?start=\"+ str(i*20) +\"&limit=20&status=P&sort=new_score\"\n",
    "    print(url)\n",
    "    html=requests.get(url,headers=Header,cookies=Cookie)\n",
    "# BeautifulSoup解析网址\n",
    "    soup=BeautifulSoup(html.content,'lxml')\n",
    "    comment_time=soup.find_all('span',attrs={'class':'comment-time'})\n",
    "# 爬取评论用户名\n",
    "    user_names = soup.find_all('span', attrs={'class': 'comment-info'})\n",
    "    # print(user_name_list) 用于检查过程中是否出现无法爬取更多数据情况\n",
    "# 爬取评论文本（选择短评）\n",
    "    comments = soup.find_all('span', attrs={'class':'short'}) \n",
    "# 爬取对应打分等信息并进行重构，重构后可以使用get(\"\")\n",
    "    rating = soup.find_all('span', attrs={'class': re.compile(r\"allstar(\\s\\w+)?\")}) \n",
    "# 若没有找到对应的打分，则直接进入下一循环\n",
    "    # print(rating_list) 用于检查过程中是否出现无法爬取更多数据情况\n",
    "    if not rating:\n",
    "        break\n",
    "# 至与有评星对应rating_list等长即可\n",
    "    for com in range(len(rating)):\n",
    "        data1=[(comment_time[com].string,\n",
    "                  user_names[com].a.string,\n",
    "                  comments[com].string,\n",
    "                  rating[com].get('class')[0],\n",
    "                  rating[com].get('title'))] \n",
    "        # 将data1转成DataFrame形式\n",
    "        data2= pd.DataFrame(data1)\n",
    "        # 保存，并防止表头重复问题出现！！\n",
    "        if not os.path.exists('./datasets/douban_shashou.csv'):\n",
    "            data2.to_csv('./datasets/douban_shashou.csv',mode='a+',header=[\"comment_time\",\"user_name\",\"comment\",\"rating\",\"title\"],index=False,index_label=False)\n",
    "        else:\n",
    "            data2.to_csv('./datasets/douban_shashou.csv',mode='a+',index=False,index_label=False,header=False)\n",
    "# 成功进行文档保存后，提示已完成\n",
    "    print('page '+str(i+1)+' is done' )\n",
    "    i+=1 \n",
    "# 爬取成功一次后，暂停10s（2s有被封id的风险）\n",
    "    time.sleep(10) \n"
   ]
  },
  {
   "cell_type": "code",
   "execution_count": null,
   "id": "12cff70f",
   "metadata": {},
   "outputs": [],
   "source": []
  }
 ],
 "metadata": {
  "kernelspec": {
   "display_name": "Python [conda env:tensorflow]",
   "language": "python",
   "name": "conda-env-tensorflow-py"
  },
  "language_info": {
   "codemirror_mode": {
    "name": "ipython",
    "version": 3
   },
   "file_extension": ".py",
   "mimetype": "text/x-python",
   "name": "python",
   "nbconvert_exporter": "python",
   "pygments_lexer": "ipython3",
   "version": "3.8.12"
  }
 },
 "nbformat": 4,
 "nbformat_minor": 5
}
